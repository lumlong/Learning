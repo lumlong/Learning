{
 "cells": [
  {
   "cell_type": "code",
   "execution_count": 13,
   "metadata": {},
   "outputs": [],
   "source": [
    "arr = [1,4,7,9,2,6,1]\n",
    "\n",
    "def max_heapify(arr, i):\n",
    "    n = len(arr)\n",
    "    largest = i\n",
    "    l = 2 * i + 1\n",
    "    r = 2 * i + 2\n",
    "    \n",
    "    if l < n and arr[l] > arr[largest]:\n",
    "        largest = l\n",
    "    \n",
    "    if r < n and arr[r] > arr[largest]: #Check before index arr\n",
    "        largest = r\n",
    "    \n",
    "    if largest != i:\n",
    "        #swap\n",
    "        arr[i], arr[largest] =  arr[largest],  arr[i]\n",
    "        max_heapify(arr, largest)"
   ]
  },
  {
   "cell_type": "code",
   "execution_count": 14,
   "metadata": {},
   "outputs": [],
   "source": [
    "for i in range(len(arr)):\n",
    "    max_heapify(arr, i)"
   ]
  },
  {
   "cell_type": "code",
   "execution_count": 15,
   "metadata": {},
   "outputs": [
    {
     "data": {
      "text/plain": [
       "[7, 9, 6, 4, 2, 1, 1]"
      ]
     },
     "execution_count": 15,
     "metadata": {},
     "output_type": "execute_result"
    }
   ],
   "source": [
    "arr"
   ]
  }
 ],
 "metadata": {
  "kernelspec": {
   "display_name": "dataeng",
   "language": "python",
   "name": "python3"
  },
  "language_info": {
   "codemirror_mode": {
    "name": "ipython",
    "version": 3
   },
   "file_extension": ".py",
   "mimetype": "text/x-python",
   "name": "python",
   "nbconvert_exporter": "python",
   "pygments_lexer": "ipython3",
   "version": "3.9.16"
  }
 },
 "nbformat": 4,
 "nbformat_minor": 2
}
