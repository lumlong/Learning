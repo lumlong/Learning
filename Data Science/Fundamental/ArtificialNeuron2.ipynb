{
 "cells": [
  {
   "cell_type": "code",
   "execution_count": 53,
   "metadata": {},
   "outputs": [],
   "source": [
    "from sklearn.datasets import load_digits\n",
    "import numpy as np\n",
    "\n",
    "digits = load_digits(n_class=6)\n",
    "X, y = digits.data, digits.target\n",
    "\n",
    "n_samples, n_features = X.shape\n",
    "n_classes = len(np.unique(y))"
   ]
  },
  {
   "cell_type": "code",
   "execution_count": 54,
   "metadata": {},
   "outputs": [
    {
     "data": {
      "image/png": "[encoded data removed]",
      "text/plain": [
       "<Figure size 600x600 with 100 Axes>"
      ]
     },
     "metadata": {},
     "output_type": "display_data"
    }
   ],
   "source": [
    "import matplotlib.pyplot as plt\n",
    "\n",
    "fig, axs = plt.subplots(nrows=10, ncols=10, figsize=(6, 6))\n",
    "for idx, ax in enumerate(axs.ravel()):\n",
    "    ax.imshow(X[idx].reshape((8, 8)), cmap=plt.cm.binary)\n",
    "    ax.axis(\"off\")\n",
    "_ = fig.show"
   ]
  },
  {
   "cell_type": "markdown",
   "metadata": {},
   "source": [
    "## Single class implement"
   ]
  },
  {
   "cell_type": "code",
   "execution_count": 79,
   "metadata": {},
   "outputs": [],
   "source": [
    "def net_input(X, weight, bias):\n",
    "    return X.dot(weight.T) + bias\n",
    "\n",
    "\n",
    "def sigmoid(net_input):\n",
    "    return 1 / (1 + np.exp(-net_input))\n",
    "\n",
    "\n",
    "def logloss(y_predict, y_target):\n",
    "    logloss = -np.mean( y_target * np.log(y_predict) + (1 - y_target) * np.log(1 - y_predict) )\n",
    "    #logloss = -np.sum(y_target * np.log(y_predict))\n",
    "    return logloss\n",
    "\n",
    "\n",
    "def fit_test(X, y, iter, learning_rate):\n",
    "    \n",
    "    b_list = []\n",
    "    \n",
    "    n_samples, n_features = X.shape\n",
    "    n_classes = len(np.unique(y))\n",
    "    \n",
    "    y_onehot = get_onehot(y)\n",
    "\n",
    "    w = np.random.uniform(0.1, 1, [n_classes, n_features])\n",
    "    b = np.random.uniform(0.1, 1, [n_classes])\n",
    "    \n",
    "    w_list = w.copy()\n",
    "\n",
    "    for i in range(iter):\n",
    "        \n",
    "        y_predict = predict(X, w, b)\n",
    "        loss = logloss(y_predict, y_onehot)\n",
    "        print(f'Iter: {i}, Loss: {loss}')\n",
    "        \n",
    "        error = y_predict - y_onehot\n",
    "        \n",
    "        wb = X.T.dot(error).T\n",
    "        bb = np.mean(error, axis=0)\n",
    "\n",
    "        w -= learning_rate * wb  # [features, samples] dot [samples, classes] = [features, classes]\n",
    "        b -= learning_rate * bb\n",
    "        \n",
    "        b_list.append(b.copy())\n",
    "        w_list = np.vstack((w_list, w))\n",
    "\n",
    "    return w_list, b_list\n",
    "    \n",
    "\n",
    "def fit(X, y, iter, learning_rate):\n",
    "    \n",
    "    n_samples, n_features = X.shape\n",
    "    n_classes = len(np.unique(y))\n",
    "    \n",
    "    y_onehot = get_onehot(y)\n",
    "\n",
    "    w = np.random.uniform(0.1, 1, [n_classes, n_features])\n",
    "    b = np.random.uniform(0.1, 1, [n_classes])\n",
    "    \n",
    "    for i in range(iter):\n",
    "        \n",
    "        y_predict = predict(X, w, b)\n",
    "        loss = logloss(y_predict, y_onehot)\n",
    "        print(f'Iter: {i}, Loss: {loss}')\n",
    "        \n",
    "        error = y_predict - y_onehot\n",
    "        \n",
    "        wb = X.T.dot(error).T\n",
    "        bb = np.mean(error, axis=0)\n",
    "\n",
    "        w -= learning_rate * wb  # [features, samples] dot [samples, classes] = [features, classes]\n",
    "        b -= learning_rate * bb\n",
    "        \n",
    "\n",
    "    return w, b\n",
    "    \n",
    "    \n",
    "def predict(X, w, b):\n",
    "    \n",
    "    z = net_input(X, w, b)\n",
    "    y_predict = sigmoid(z)\n",
    "    \n",
    "    return y_predict\n",
    "\n",
    "\n",
    "# Aux function\n",
    "def get_onehot(y):\n",
    "    n_classes = len(np.unique(y))\n",
    "    n_samples = len(y)\n",
    "    \n",
    "    y_onehot = np.zeros([n_samples, n_classes])\n",
    "    for i, val in enumerate(y):\n",
    "        y_onehot[i, val] = 1\n",
    "    return y_onehot\n",
    "\n",
    "\n",
    "def onehot_to_label(y_onehot):\n",
    "    \n",
    "    y_pred = []\n",
    "    \n",
    "    for row in y_onehot:\n",
    "        for i, col in enumerate(row):\n",
    "            if col == 1:\n",
    "                y_pred.append(i)\n",
    "    return y_pred\n",
    "\n",
    "\n",
    "def to_classlabel(z):\n",
    "    return z.argmax(axis = 1)"
   ]
  },
  {
   "cell_type": "code",
   "execution_count": 80,
   "metadata": {},
   "outputs": [
    {
     "name": "stdout",
     "output_type": "stream",
     "text": [
      "Iter: 0, Loss: nan\n",
      "Iter: 1, Loss: nan\n",
      "Iter: 2, Loss: nan\n",
      "Iter: 3, Loss: nan\n",
      "Iter: 4, Loss: nan\n"
     ]
    },
    {
     "name": "stderr",
     "output_type": "stream",
     "text": [
      "/var/folders/3t/xfpgj4cx36x99cwhqh55n25w0000gp/T/ipykernel_21351/2464089953.py:10: RuntimeWarning: divide by zero encountered in log\n",
      "  logloss = -np.mean( y_target * np.log(y_predict) + (1 - y_target) * np.log(1 - y_predict) )\n",
      "/var/folders/3t/xfpgj4cx36x99cwhqh55n25w0000gp/T/ipykernel_21351/2464089953.py:10: RuntimeWarning: invalid value encountered in multiply\n",
      "  logloss = -np.mean( y_target * np.log(y_predict) + (1 - y_target) * np.log(1 - y_predict) )\n",
      "/var/folders/3t/xfpgj4cx36x99cwhqh55n25w0000gp/T/ipykernel_21351/2464089953.py:6: RuntimeWarning: overflow encountered in exp\n",
      "  return 1 / (1 + np.exp(-net_input))\n"
     ]
    }
   ],
   "source": [
    "# Single class\n",
    "w_list, b_list = fit_test(X, y, 5, 0.01)"
   ]
  },
  {
   "cell_type": "code",
   "execution_count": 81,
   "metadata": {},
   "outputs": [
    {
     "name": "stdout",
     "output_type": "stream",
     "text": [
      "Iter: 0, Loss: nan\n"
     ]
    },
    {
     "name": "stderr",
     "output_type": "stream",
     "text": [
      "/var/folders/3t/xfpgj4cx36x99cwhqh55n25w0000gp/T/ipykernel_21351/2464089953.py:10: RuntimeWarning: divide by zero encountered in log\n",
      "  logloss = -np.mean( y_target * np.log(y_predict) + (1 - y_target) * np.log(1 - y_predict) )\n",
      "/var/folders/3t/xfpgj4cx36x99cwhqh55n25w0000gp/T/ipykernel_21351/2464089953.py:10: RuntimeWarning: invalid value encountered in multiply\n",
      "  logloss = -np.mean( y_target * np.log(y_predict) + (1 - y_target) * np.log(1 - y_predict) )\n"
     ]
    },
    {
     "ename": "ValueError",
     "evalue": "non-broadcastable output operand with shape (1,6) doesn't match the broadcast shape (1083,6)",
     "output_type": "error",
     "traceback": [
      "\u001b[0;31m---------------------------------------------------------------------------\u001b[0m",
      "\u001b[0;31mValueError\u001b[0m                                Traceback (most recent call last)",
      "Cell \u001b[0;32mIn[81], line 1\u001b[0m\n\u001b[0;32m----> 1\u001b[0m w, b \u001b[38;5;241m=\u001b[39m \u001b[43mfit\u001b[49m\u001b[43m(\u001b[49m\u001b[43mX\u001b[49m\u001b[43m,\u001b[49m\u001b[43m \u001b[49m\u001b[43my\u001b[49m\u001b[43m,\u001b[49m\u001b[43m \u001b[49m\u001b[38;5;241;43m5\u001b[39;49m\u001b[43m,\u001b[49m\u001b[43m \u001b[49m\u001b[38;5;241;43m0.01\u001b[39;49m\u001b[43m)\u001b[49m\n\u001b[1;32m      2\u001b[0m sigmoid(net_input(X, w, b))\n",
      "Cell \u001b[0;32mIn[79], line 71\u001b[0m, in \u001b[0;36mfit\u001b[0;34m(X, y, iter, learning_rate)\u001b[0m\n\u001b[1;32m     68\u001b[0m     bb \u001b[38;5;241m=\u001b[39m error\n\u001b[1;32m     70\u001b[0m     w \u001b[38;5;241m-\u001b[39m\u001b[38;5;241m=\u001b[39m learning_rate \u001b[38;5;241m*\u001b[39m wb  \u001b[38;5;66;03m# [features, samples] dot [samples, classes] = [features, classes]\u001b[39;00m\n\u001b[0;32m---> 71\u001b[0m     b \u001b[38;5;241m-\u001b[39m\u001b[38;5;241m=\u001b[39m learning_rate \u001b[38;5;241m*\u001b[39m bb\n\u001b[1;32m     74\u001b[0m \u001b[38;5;28;01mreturn\u001b[39;00m w, b\n",
      "\u001b[0;31mValueError\u001b[0m: non-broadcastable output operand with shape (1,6) doesn't match the broadcast shape (1083,6)"
     ]
    }
   ],
   "source": [
    "w, b = fit(X, y, 5, 0.01)\n",
    "sigmoid(net_input(X, w, b))"
   ]
  },
  {
   "cell_type": "code",
   "execution_count": 82,
   "metadata": {},
   "outputs": [
    {
     "data": {
      "image/png": "[encoded data removed]",
      "text/plain": [
       "<Figure size 600x600 with 36 Axes>"
      ]
     },
     "metadata": {},
     "output_type": "display_data"
    }
   ],
   "source": [
    "# Explainable\n",
    "n_row = int(w_list.shape[0] / n_classes)\n",
    "\n",
    "fig, axs = plt.subplots(nrows=n_row, ncols=n_classes, figsize=(6, 6))\n",
    "\n",
    "for idx, ax in enumerate(axs.ravel()):\n",
    "    ax.imshow(w_list[idx].reshape((8, 8)), cmap=plt.cm.binary)\n",
    "    ax.axis(\"off\")\n",
    "_ = fig.show"
   ]
  },
  {
   "cell_type": "markdown",
   "metadata": {},
   "source": [
    "$ \\hat{y} = w * x $\n",
    "\n",
    "$ L(\\hat{y}, y) = \\frac{1}{m} \\sum(\\hat{y} - y)^2 $\n",
    "\n",
    "$ [f(g(x))]' = f'(g(x)) * g(x)' $"
   ]
  },
  {
   "cell_type": "code",
   "execution_count": 43,
   "metadata": {},
   "outputs": [],
   "source": [
    "def softmax(z):\n",
    "    return np.exp(z) / np.sum(np.exp(z))\n",
    "\n",
    "\n",
    "def cross_entropy_loss(y_true, y_pred):\n",
    "    return -np.sum(y_true * np.log(y_pred))\n",
    "\n",
    "\n",
    "def update_weights_biases(X, y, weight, bias, learning_rate):\n",
    "    \n",
    "    m = X.shape[0]  # Number of samples\n",
    "\n",
    "    # Forward pass\n",
    "    z = net_input(X, weight, bias)\n",
    "    y_pred = softmax(z)\n",
    "    loss = cross_entropy_loss(y, y_pred)\n",
    "\n",
    "    # Backward pass\n",
    "    error = y - y_pred\n",
    "    dw = X.T.dot(error).T / m\n",
    "    db = np.sum(error, axis=0) / m\n",
    "\n",
    "    # Update weight and bias\n",
    "    weight -= learning_rate * dw\n",
    "    bias -= learning_rate * db\n",
    "\n",
    "    return weight, bias, loss"
   ]
  },
  {
   "cell_type": "code",
   "execution_count": 351,
   "metadata": {},
   "outputs": [],
   "source": [
    "y_onehot = get_onehot(y)\n",
    "weight = np.random.uniform(.01, .1, [n_classes, n_features])\n",
    "bias = np.random.uniform(.01, .1, [n_classes])"
   ]
  },
  {
   "cell_type": "code",
   "execution_count": 352,
   "metadata": {},
   "outputs": [
    {
     "name": "stdout",
     "output_type": "stream",
     "text": [
      "12536.281221527814\n",
      "12513.35199856618\n",
      "12496.628694467472\n",
      "12486.151673697113\n",
      "12481.946077868775\n",
      "12484.021357376701\n",
      "12492.370930271623\n",
      "12506.972005885975\n",
      "12527.785608887598\n",
      "12554.756833661144\n",
      "12587.815349563138\n",
      "12626.876165508575\n",
      "12671.840648703608\n",
      "12722.59777849851\n",
      "12779.025603645216\n",
      "12840.992860865565\n",
      "12908.360705406847\n",
      "12980.984500616001\n",
      "13058.715613524731\n",
      "13141.403166660555\n",
      "13228.895702164558\n",
      "13321.042722024677\n",
      "13417.696076995398\n",
      "13518.711185793221\n",
      "13623.948074775364\n",
      "13733.272236033528\n",
      "13846.555308343963\n",
      "13963.675590554309\n",
      "14084.518400737488\n",
      "14208.976296889525\n",
      "14336.949176247927\n",
      "14468.344270653906\n",
      "14603.076054981964\n",
      "14741.066084713573\n",
      "14882.242777417317\n",
      "15026.541151368434\n",
      "15173.902532919226\n",
      "15324.274242612024\n",
      "15477.60926847575\n",
      "15633.865933510027\n",
      "15793.007563063378\n",
      "15955.002156665427\n",
      "16119.822067877956\n",
      "16287.443694878566\n",
      "16457.8471837717\n",
      "16631.016146019378\n",
      "16806.93739088179\n",
      "16985.60067333911\n",
      "17166.998457614423\n",
      "17351.125696119092\n",
      "17537.979623382733\n",
      "17727.559564299554\n",
      "17919.86675581198\n",
      "18114.90418095456\n",
      "18312.676413991474\n",
      "18513.18947519747\n",
      "18716.450693654344\n",
      "18922.468576265343\n",
      "19131.252681032267\n",
      "19342.813492499958\n",
      "19557.16229715853\n",
      "19774.31105651324\n",
      "19994.272275495976\n",
      "20217.05886391056\n",
      "20442.683988687768\n",
      "20671.160914884018\n",
      "20902.502833599257\n",
      "21136.72267532079\n",
      "21373.83290762335\n",
      "21613.845316672174\n",
      "21856.770772579148\n",
      "22102.618979342293\n",
      "22351.398210840394\n",
      "22603.11503513487\n",
      "22857.774030124037\n",
      "23115.377494367516\n",
      "23375.925157616315\n",
      "23639.413896208283\n",
      "23905.83745898295\n",
      "24175.186209697837\n",
      "24447.446892061722\n",
      "24722.60242341506\n",
      "25000.63172277241\n",
      "25281.509578394915\n",
      "25565.206559293398\n",
      "25851.688974099856\n",
      "26140.918879621953\n",
      "26432.85414015796\n",
      "26727.44853735146\n",
      "27024.651929063246\n",
      "27324.41045448903\n",
      "27626.666781610387\n",
      "27931.360392078896\n",
      "28238.427897837522\n",
      "28547.80338320411\n",
      "28859.418765792703\n",
      "29173.204169529265\n",
      "29489.088303118686\n",
      "29806.998837617703\n",
      "30126.8627772353\n"
     ]
    }
   ],
   "source": [
    "iter = 100\n",
    "for _ in range(iter):\n",
    "    weight, bias, loss = update_weights_biases(X, y_onehot, weight, bias, 0.001)\n",
    "    print(loss)"
   ]
  },
  {
   "cell_type": "markdown",
   "metadata": {},
   "source": [
    "## Performance Evaluation\n",
    "\n",
    "### Confusion Matrix\n",
    "Precision = TP(TP / FP)\n",
    "\n",
    "Recall = TP(TP / FN)\n",
    "\n",
    "Accuracy = (TP + TN) / Total\n",
    "\n",
    "F1 Score = 2 * (Precision * Recall) / (Precision + Recall)"
   ]
  },
  {
   "cell_type": "code",
   "execution_count": null,
   "metadata": {},
   "outputs": [],
   "source": []
  }
 ],
 "metadata": {
  "kernelspec": {
   "display_name": "dataeng",
   "language": "python",
   "name": "python3"
  },
  "language_info": {
   "codemirror_mode": {
    "name": "ipython",
    "version": 3
   },
   "file_extension": ".py",
   "mimetype": "text/x-python",
   "name": "python",
   "nbconvert_exporter": "python",
   "pygments_lexer": "ipython3",
   "version": "3.9.16"
  }
 },
 "nbformat": 4,
 "nbformat_minor": 2
}
