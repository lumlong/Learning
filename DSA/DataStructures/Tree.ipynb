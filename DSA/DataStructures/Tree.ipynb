{
 "cells": [
  {
   "cell_type": "code",
   "execution_count": 1,
   "metadata": {},
   "outputs": [],
   "source": [
    "# Tree structure\n",
    "class Node:\n",
    "    left = None\n",
    "    right = None\n",
    "    val = 0\n",
    "    \n",
    "    def __init__(self, val):\n",
    "        self.val = val\n",
    "        \n",
    "        \n",
    "# Helper\n",
    "def printTree(root):\n",
    "    if not root:\n",
    "        return\n",
    "    printTree(root.left)\n",
    "    print(root.val, end=\" \")\n",
    "    printTree(root.right)"
   ]
  },
  {
   "cell_type": "code",
   "execution_count": 2,
   "metadata": {},
   "outputs": [],
   "source": [
    "def arrToBinaryTree(arr):\n",
    "    '''\n",
    "    Array to Tree\n",
    "    '''\n",
    "    \n",
    "    # We need queue to put L&R layer by layer\n",
    "    q = []\n",
    "    \n",
    "    if not arr:\n",
    "        return None\n",
    "    \n",
    "    root = Node(arr[0])\n",
    "    q.append(root)\n",
    "    \n",
    "    # i = 0 is already root, start with 1\n",
    "    i = 1\n",
    "    while i < len(arr):\n",
    "        \n",
    "        # When we done add L & R we move wo next node, then set it as current\n",
    "        curr = q.pop(0)\n",
    "        \n",
    "        if i < len(arr):\n",
    "            curr.left = Node(arr[i])\n",
    "            # Add this node to queue for further add L&R\n",
    "            q.append(curr.left)\n",
    "            i += 1\n",
    "            \n",
    "        if i < len(arr):\n",
    "            curr.right = Node(arr[i])\n",
    "            q.append(curr.right)\n",
    "            i += 1\n",
    "            \n",
    "    return root"
   ]
  },
  {
   "cell_type": "code",
   "execution_count": 3,
   "metadata": {},
   "outputs": [
    {
     "name": "stdout",
     "output_type": "stream",
     "text": [
      "8 4 9 2 5 1 6 3 7 "
     ]
    }
   ],
   "source": [
    "'''\n",
    "            1\n",
    "           / \\\n",
    "        2       3\n",
    "       / \\     / \\\n",
    "      4   5   6   7\n",
    "     / \\\n",
    "    8   9\n",
    "    \n",
    "    We add root, set curr to root\n",
    "    Add 2 to L, put in queue\n",
    "    Add 3 to R, put in queue\n",
    "        Pop 2 from queue\n",
    "        Add 4 to L, put in queue\n",
    "        Add 5 to R, put in queue\n",
    "            Pop 3 from queue\n",
    "            Add 6 to L, put in queue\n",
    "            Add 7 to R, put in queue\n",
    "                ...\n",
    "                Pop n/2 from queue\n",
    "                add n to L, put in queue, n += 1\n",
    "                add n to R, put in queue, n += 1\n",
    "    O(n)\n",
    "'''\n",
    "\n",
    "numArray = [1,2,3,4,5,6,7,8,9]\n",
    "\n",
    "root = arrToBinaryTree(numArray)\n",
    "\n",
    "printTree(root)"
   ]
  },
  {
   "cell_type": "code",
   "execution_count": 4,
   "metadata": {},
   "outputs": [],
   "source": [
    "# For arr if it has len(arr), the number of N in known\n",
    "# Now we try with linked list with unknown N\n",
    "\n",
    "# Linked list structure\n",
    "\n",
    "class LinkList:\n",
    "    next = None\n",
    "    val = None\n",
    "    \n",
    "    def __init__(self, val):\n",
    "        self.val = val\n",
    "\n",
    "\n",
    "def arrToList(arr):\n",
    "\n",
    "    head = LinkList(arr[0])\n",
    "    curr = head\n",
    "\n",
    "    i = 1\n",
    "    while i < len(arr):\n",
    "        curr.next = LinkList(arr[i])\n",
    "        curr = curr.next\n",
    "        i += 1\n",
    "    return head\n",
    "\n",
    "\n",
    "def printList(head):\n",
    "    if head == None:\n",
    "        return\n",
    "    \n",
    "    print(head.val)\n",
    "    printList(head.next)"
   ]
  },
  {
   "cell_type": "code",
   "execution_count": 5,
   "metadata": {},
   "outputs": [
    {
     "name": "stdout",
     "output_type": "stream",
     "text": [
      "1\n",
      "2\n",
      "3\n",
      "4\n",
      "5\n",
      "6\n",
      "7\n",
      "8\n",
      "9\n"
     ]
    }
   ],
   "source": [
    "numArray = [1,2,3,4,5,6,7,8,9]\n",
    "listHead = arrToList(numArray)\n",
    "printList(listHead)"
   ]
  },
  {
   "cell_type": "code",
   "execution_count": 6,
   "metadata": {},
   "outputs": [],
   "source": [
    "'''\n",
    "First attempt,\n",
    "Main idea, go throught linked list, which has ending and linear\n",
    "This must add to tree layer by layer, so we work with L&R at each layer\n",
    "p:1 l:2 r:3, p:2 l:4 r:5 and so forth\n",
    "we use q to queue just added l&r to assign to tree pointer\n",
    "\n",
    "**This is a mistake, I use i to find L&R which duplicated to the purpose of queue\n",
    "\n",
    "            1\n",
    "           / \\\n",
    "        2       3\n",
    "       / \\     / \\\n",
    "      4   5   6   7\n",
    "     / \\\n",
    "    8   9\n",
    "'''\n",
    "\n",
    "def listToBinaryTree(listHead, q, i):\n",
    "\n",
    "    # In this case we don't know N\n",
    "    # Recurrsion until reach leaf\n",
    "    if listHead == None:\n",
    "        return\n",
    "    \n",
    "    curr = q.pop(0)\n",
    "    \n",
    "    if i % 2 == 0:    \n",
    "        curr.left = Node(listHead.val)\n",
    "        q.append(curr.left)\n",
    "        listToBinaryTree(listHead.next, q, i+1)\n",
    "    elif i % 2 == 1:\n",
    "        curr.right = Node(listHead.val)\n",
    "        q.append(curr.right)\n",
    "        listToBinaryTree(listHead.next, q, i+1) \n",
    "        \n",
    "    return curr"
   ]
  },
  {
   "cell_type": "code",
   "execution_count": 7,
   "metadata": {},
   "outputs": [
    {
     "name": "stdout",
     "output_type": "stream",
     "text": [
      "2 4 6 8 9 7 5 3 1 "
     ]
    }
   ],
   "source": [
    "root = Node(listHead.val)\n",
    "treeHead = listToBinaryTree(listHead.next, [root], 1+1)\n",
    "\n",
    "# 1st attemp, try to use i to postion left or right\n",
    "printTree(treeHead)"
   ]
  },
  {
   "cell_type": "code",
   "execution_count": 8,
   "metadata": {},
   "outputs": [],
   "source": [
    "'''\n",
    "Second attempt,\n",
    "Same as first attempt, but use only queue pointer\n",
    "'''\n",
    "\n",
    "def listToBinaryTree(listHead, q):\n",
    "\n",
    "    # In this case we don't know N\n",
    "    # Recurrsion until reach leaf\n",
    "    if listHead == None:\n",
    "        return\n",
    "    \n",
    "    curr = q.pop(0)\n",
    "    \n",
    "    # Left\n",
    "    if not listHead == None:\n",
    "        curr.left = Node(listHead.val)\n",
    "        q.append(curr.left)\n",
    "    \n",
    "    # Right\n",
    "    if not listHead.next == None:\n",
    "        curr.right = Node(listHead.next.val)\n",
    "        q.append(curr.right)\n",
    "        \n",
    "    # Nect\n",
    "    listToBinaryTree(listHead.next.next, q)\n",
    "        \n",
    "    return curr"
   ]
  },
  {
   "cell_type": "code",
   "execution_count": 9,
   "metadata": {},
   "outputs": [
    {
     "name": "stdout",
     "output_type": "stream",
     "text": [
      "8 4 9 2 5 1 6 3 7 "
     ]
    }
   ],
   "source": [
    "root = Node(listHead.val)\n",
    "treeHead = listToBinaryTree(listHead.next, [root])\n",
    "\n",
    "# 1st attemp, try to use i to postion left or right\n",
    "printTree(treeHead)"
   ]
  },
  {
   "cell_type": "code",
   "execution_count": 10,
   "metadata": {},
   "outputs": [],
   "source": [
    "# This is non recursive approach\n",
    "\n",
    "def listToBinaryTree(head):\n",
    "\n",
    "    root = Node(head.val)\n",
    "    q = [root]\n",
    "    head = head.next\n",
    "\n",
    "    while head:\n",
    "        # Tree pointer alternating between L and R\n",
    "        parent = q.pop(0)\n",
    "        \n",
    "        # Left\n",
    "        l = Node(head.val)\n",
    "        parent.left = l\n",
    "        q.append(l)\n",
    "        # Next linked list pointer\n",
    "        head = head.next\n",
    "        \n",
    "        # Right\n",
    "        r = Node(head.val)\n",
    "        parent.right = r\n",
    "        q.append(r)\n",
    "        head = head.next\n",
    "\n",
    "    return root"
   ]
  },
  {
   "cell_type": "code",
   "execution_count": 11,
   "metadata": {},
   "outputs": [
    {
     "name": "stdout",
     "output_type": "stream",
     "text": [
      "8 4 9 2 5 1 6 3 7 "
     ]
    }
   ],
   "source": [
    "root = listToBinaryTree(listHead)\n",
    "printTree(root)"
   ]
  }
 ],
 "metadata": {
  "kernelspec": {
   "display_name": "dataeng",
   "language": "python",
   "name": "python3"
  },
  "language_info": {
   "codemirror_mode": {
    "name": "ipython",
    "version": 3
   },
   "file_extension": ".py",
   "mimetype": "text/x-python",
   "name": "python",
   "nbconvert_exporter": "python",
   "pygments_lexer": "ipython3",
   "version": "3.9.16"
  }
 },
 "nbformat": 4,
 "nbformat_minor": 2
}
