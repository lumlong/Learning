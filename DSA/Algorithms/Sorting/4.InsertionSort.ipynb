{
 "cells": [
  {
   "cell_type": "code",
   "execution_count": 23,
   "metadata": {},
   "outputs": [],
   "source": [
    "def insertionSort(arr):\n",
    "    '''\n",
    "    i pointer is go forward, each i, j pointer go backward\n",
    "    you move all j that > i to make a room to insert i\n",
    "    Think like sorting cards on your hand\n",
    "    '''\n",
    "    \n",
    "    n = len(arr)\n",
    "    \n",
    "    # Start from 1\n",
    "    for i in range(1, n):\n",
    "        key = arr[i]\n",
    "        j = i-1\n",
    "        \n",
    "        # To move arr this must iter backward until it reach 0\n",
    "        # and the condition if key(next one) < than j(prev one)\n",
    "        while j >= 0 and key < arr[j]:\n",
    "            # Set i to j, or move all before j 1 step up\n",
    "            arr[i] = arr[j]\n",
    "            j = j-1\n",
    "            \n",
    "        # After move up all val that < key 1 step up, replace(insert) with key\n",
    "        arr[j+1] = key"
   ]
  },
  {
   "cell_type": "code",
   "execution_count": 24,
   "metadata": {},
   "outputs": [
    {
     "data": {
      "text/plain": [
       "[2, 3, 4, 8, 7, 9]"
      ]
     },
     "execution_count": 24,
     "metadata": {},
     "output_type": "execute_result"
    }
   ],
   "source": [
    "arr = [7,4,2,8,3,9]\n",
    "\n",
    "insertionSort(arr)\n",
    "arr"
   ]
  },
  {
   "cell_type": "code",
   "execution_count": null,
   "metadata": {},
   "outputs": [],
   "source": []
  }
 ],
 "metadata": {
  "kernelspec": {
   "display_name": "dataeng",
   "language": "python",
   "name": "python3"
  },
  "language_info": {
   "codemirror_mode": {
    "name": "ipython",
    "version": 3
   },
   "file_extension": ".py",
   "mimetype": "text/x-python",
   "name": "python",
   "nbconvert_exporter": "python",
   "pygments_lexer": "ipython3",
   "version": "3.9.16"
  }
 },
 "nbformat": 4,
 "nbformat_minor": 2
}
