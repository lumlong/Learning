{
 "cells": [
  {
   "cell_type": "code",
   "execution_count": 108,
   "metadata": {},
   "outputs": [],
   "source": [
    "class Node:\n",
    "    next = None\n",
    "    val = None\n",
    "    \n",
    "    def __init__(self, val):\n",
    "        self.val = val"
   ]
  },
  {
   "cell_type": "code",
   "execution_count": 109,
   "metadata": {},
   "outputs": [],
   "source": [
    "head = Node(4)\n",
    "curr = head\n",
    "\n",
    "for x in [6,2,9,5,1]:\n",
    "    curr.next = Node(x)\n",
    "    curr = curr.next"
   ]
  },
  {
   "cell_type": "code",
   "execution_count": 110,
   "metadata": {},
   "outputs": [],
   "source": [
    "def printList(head):\n",
    "    if head == None:\n",
    "        return\n",
    "    print(f'Current value is: {head.val}')\n",
    "    printList(head.next)"
   ]
  },
  {
   "cell_type": "code",
   "execution_count": 111,
   "metadata": {},
   "outputs": [
    {
     "name": "stdout",
     "output_type": "stream",
     "text": [
      "Current value is: 4\n",
      "Current value is: 6\n",
      "Current value is: 2\n",
      "Current value is: 9\n",
      "Current value is: 5\n",
      "Current value is: 1\n"
     ]
    }
   ],
   "source": [
    "printList(head)"
   ]
  },
  {
   "cell_type": "code",
   "execution_count": 112,
   "metadata": {},
   "outputs": [],
   "source": [
    "def secondSmall(head, small1, small2):\n",
    "    \n",
    "    if head == None:\n",
    "        return\n",
    "    \n",
    "    if head.val < small1.val :\n",
    "        small2 = small1\n",
    "        small1 = head\n",
    "    elif head.val < small2.val and head.val > small1.val :\n",
    "        small2 = head\n",
    "        \n",
    "    print(f'Second smallest value is: {small2.val}')\n",
    "    \n",
    "    secondSmall(head.next, small1, small2)"
   ]
  },
  {
   "cell_type": "code",
   "execution_count": 113,
   "metadata": {},
   "outputs": [
    {
     "name": "stdout",
     "output_type": "stream",
     "text": [
      "Second smallest value is: 4\n",
      "Second smallest value is: 4\n",
      "Second smallest value is: 4\n",
      "Second smallest value is: 4\n",
      "Second smallest value is: 4\n",
      "Second smallest value is: 2\n"
     ]
    }
   ],
   "source": [
    "secondSmall(head, head, head) # 2"
   ]
  }
 ],
 "metadata": {
  "kernelspec": {
   "display_name": "dataeng",
   "language": "python",
   "name": "python3"
  },
  "language_info": {
   "codemirror_mode": {
    "name": "ipython",
    "version": 3
   },
   "file_extension": ".py",
   "mimetype": "text/x-python",
   "name": "python",
   "nbconvert_exporter": "python",
   "pygments_lexer": "ipython3",
   "version": "3.9.16"
  }
 },
 "nbformat": 4,
 "nbformat_minor": 2
}
