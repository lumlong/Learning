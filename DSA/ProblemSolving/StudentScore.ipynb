{
 "cells": [
  {
   "cell_type": "code",
   "execution_count": 3,
   "metadata": {},
   "outputs": [],
   "source": [
    "def studentScore(numStudent, numTest):\n",
    "    \n",
    "    studentScr = [0] * numStudent\n",
    "    testScr = [0] * numTest\n",
    "    \n",
    "    for i in range(numStudent):\n",
    "        print(f'Enter student {i+1} score, for {numTest} tests')\n",
    "        for j in range(numTest):\n",
    "            x = int(input())\n",
    "            studentScr[i] += x\n",
    "            testScr[j] += x\n",
    "            \n",
    "    studentAvg = [x / numStudent for x in studentScr]\n",
    "    testAvg = [x / numTest for x in testScr]\n",
    "\n",
    "    for i,x in enumerate(studentAvg):\n",
    "        print(f'Student {i+1} avg.score is: {x}')\n",
    "        \n",
    "    for i,x in enumerate(testAvg):\n",
    "        print(f'Test {i+1} avg.score is: {x}')"
   ]
  },
  {
   "cell_type": "code",
   "execution_count": 4,
   "metadata": {},
   "outputs": [
    {
     "name": "stdout",
     "output_type": "stream",
     "text": [
      "Enter student 1 score, for 3 tests\n",
      "Enter student 2 score, for 3 tests\n",
      "Student 1 avg.score is: 3.5\n",
      "Student 2 avg.score is: 5.5\n",
      "Test 1 avg.score is: 1.6666666666666667\n",
      "Test 2 avg.score is: 3.0\n",
      "Test 3 avg.score is: 1.3333333333333333\n"
     ]
    }
   ],
   "source": [
    "numStudent = 2\n",
    "numTest = 3\n",
    "\n",
    "studentScore(numStudent, numTest)"
   ]
  }
 ],
 "metadata": {
  "kernelspec": {
   "display_name": "dataeng",
   "language": "python",
   "name": "python3"
  },
  "language_info": {
   "codemirror_mode": {
    "name": "ipython",
    "version": 3
   },
   "file_extension": ".py",
   "mimetype": "text/x-python",
   "name": "python",
   "nbconvert_exporter": "python",
   "pygments_lexer": "ipython3",
   "version": "3.9.16"
  }
 },
 "nbformat": 4,
 "nbformat_minor": 2
}
