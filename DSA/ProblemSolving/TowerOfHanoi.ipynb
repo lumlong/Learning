{
 "cells": [
  {
   "cell_type": "code",
   "execution_count": null,
   "metadata": {},
   "outputs": [],
   "source": []
  },
  {
   "cell_type": "code",
   "execution_count": 23,
   "metadata": {},
   "outputs": [
    {
     "name": "stdout",
     "output_type": "stream",
     "text": [
      "Move disk 1 from rod A to rod C\n",
      "Move disk 2 from rod A to rod B\n",
      "Move disk 1 from rod C to rod B\n",
      "Move disk 3 from rod A to rod C\n",
      "Move disk 1 from rod B to rod A\n",
      "Move disk 2 from rod B to rod C\n",
      "Move disk 1 from rod A to rod C\n"
     ]
    }
   ],
   "source": [
    "a = [1,2,3]\n",
    "b = []\n",
    "c = []\n",
    "\n",
    "'''\n",
    "a [1,2,3] to c\n",
    "\n",
    "a [1,2] to b\n",
    "a [3] c\n",
    "b [1,2] to c\n",
    "\n",
    "a [1] to c\n",
    "a [2] to b\n",
    "c [1] to b\n",
    "a [3] to c\n",
    "b [1] to a\n",
    "b [2] to c\n",
    "a [1] to c\n",
    "\n",
    "'''\n",
    "# Recursion will callback from basecase to top\n",
    "# So N=0, N=1 -> N=0, N=2 -> N=1 -> N=0, N=3 -> N=2, N=1\n",
    "\n",
    "def towerOfHanoi(n, from_rod, aux_rod, to_rod):\n",
    "                    #5. 0 meet base case, end\n",
    "                    #8. 0 meet base\n",
    "    if n == 0:\n",
    "        return\n",
    "    #1. call 3,A,C,B\n",
    "        #2. call 2,A,B,C\n",
    "            #3. call 1,A,C,B\n",
    "                # 4. 0 call here, A,C,B\n",
    "        #10. call 2,A,C,B\n",
    "        #12. call 0,C,B,A\n",
    "    towerOfHanoi(n-1, from_rod, to_rod, aux_rod)\n",
    "            #6. 1, A->C\n",
    "            #9. 2, A->B\n",
    "            #13. 1, C->B\n",
    "            #14. 3, A->C\n",
    "    print(\"Move disk\", n, \"from rod\", from_rod, \"to rod\", to_rod)\n",
    "                #7. call 0,B,A,C\n",
    "            #11. call 1,C,A,B\n",
    "    towerOfHanoi(n-1, aux_rod, from_rod, to_rod)\n",
    "\n",
    "N = 3\n",
    "\n",
    "# First call, A to C\n",
    "towerOfHanoi(N, 'A', 'B', 'C')"
   ]
  },
  {
   "cell_type": "code",
   "execution_count": 2,
   "metadata": {},
   "outputs": [
    {
     "name": "stdout",
     "output_type": "stream",
     "text": [
      "[1, 2, 3]\n"
     ]
    }
   ],
   "source": [
    "print(a + b + c)"
   ]
  },
  {
   "cell_type": "code",
   "execution_count": null,
   "metadata": {},
   "outputs": [],
   "source": []
  }
 ],
 "metadata": {
  "kernelspec": {
   "display_name": "dataeng",
   "language": "python",
   "name": "python3"
  },
  "language_info": {
   "codemirror_mode": {
    "name": "ipython",
    "version": 3
   },
   "file_extension": ".py",
   "mimetype": "text/x-python",
   "name": "python",
   "nbconvert_exporter": "python",
   "pygments_lexer": "ipython3",
   "version": "3.9.16"
  }
 },
 "nbformat": 4,
 "nbformat_minor": 2
}
