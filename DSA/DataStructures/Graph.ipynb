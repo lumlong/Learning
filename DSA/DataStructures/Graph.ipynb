{
 "cells": [
  {
   "cell_type": "code",
   "execution_count": 1,
   "metadata": {},
   "outputs": [],
   "source": [
    "# Graph representation\n",
    "'''\n",
    "Adjacency Matrix\n",
    "Edge lookup is fast \n",
    "but requires more space. it reserve space for every possible link between all vertices(V x V) \n",
    "'''\n",
    "class AdjacencyMatrix:\n",
    "    \n",
    "    def __init__(self, n):\n",
    "        self.max_n = n\n",
    "        self.mat = [[0 for _ in range(n)] for _ in range(n)]\n",
    "    \n",
    "    def _increase_size(self, n):\n",
    "        if n > self.max_n:\n",
    "            diff = n - self.max_n\n",
    "            for i in range(self.max_n):\n",
    "                for _ in range(diff):\n",
    "                    self.mat[i].append(0)\n",
    "            for _ in range(diff):\n",
    "                self.mat.append([0] * n)\n",
    "        self.max_n = n\n",
    "        \n",
    "        \n",
    "    def add_edge(self, i, j):\n",
    "        \n",
    "        if i > j:\n",
    "            self._increase_size(i)\n",
    "        else:\n",
    "            self._increase_size(j)\n",
    "            \n",
    "        i = i-1\n",
    "        j = j-1\n",
    "            \n",
    "        self.mat[i][j] = 1\n",
    "        self.mat[j][i] = 1 # graph is undirectional"
   ]
  },
  {
   "cell_type": "code",
   "execution_count": 2,
   "metadata": {},
   "outputs": [
    {
     "data": {
      "text/plain": [
       "[[0, 0, 1, 0, 0],\n",
       " [0, 0, 1, 0, 0],\n",
       " [0, 0, 1, 0, 0],\n",
       " [0, 0, 1, 0, 0],\n",
       " [0, 0, 1, 0, 0],\n",
       " [0, 0, 1, 0, 0]]"
      ]
     },
     "execution_count": 2,
     "metadata": {},
     "output_type": "execute_result"
    }
   ],
   "source": [
    "# my mistake\n",
    "# Create list this way, it point to the same value, making whole colume 0 or 2\n",
    "cols, rows = (5,6)\n",
    "mat = [[0] * cols] * rows\n",
    "mat[0][2] = 1\n",
    "mat"
   ]
  },
  {
   "cell_type": "code",
   "execution_count": 3,
   "metadata": {},
   "outputs": [
    {
     "data": {
      "text/plain": [
       "[[0, 0, 1, 0, 0],\n",
       " [0, 0, 0, 0, 0],\n",
       " [0, 0, 0, 0, 0],\n",
       " [0, 0, 0, 0, 0],\n",
       " [0, 0, 0, 0, 0],\n",
       " [0, 0, 0, 0, 0]]"
      ]
     },
     "execution_count": 3,
     "metadata": {},
     "output_type": "execute_result"
    }
   ],
   "source": [
    "# vs create each elemetns using loop\n",
    "cols, rows = (5,6)\n",
    "mat = [[0 for _ in range(cols)] for _ in range(rows)]\n",
    "mat[0][2] = 1\n",
    "mat"
   ]
  },
  {
   "cell_type": "code",
   "execution_count": 4,
   "metadata": {},
   "outputs": [],
   "source": [
    "matrix = AdjacencyMatrix(5)\n",
    "matrix.add_edge(7, 7)\n",
    "matrix.add_edge(4, 4)"
   ]
  },
  {
   "cell_type": "code",
   "execution_count": 5,
   "metadata": {},
   "outputs": [
    {
     "data": {
      "text/plain": [
       "[[0, 0, 0, 0, 0, 0, 0],\n",
       " [0, 0, 0, 0, 0, 0, 0],\n",
       " [0, 0, 0, 0, 0, 0, 0],\n",
       " [0, 0, 0, 1, 0, 0, 0],\n",
       " [0, 0, 0, 0, 0, 0, 0],\n",
       " [0, 0, 0, 0, 0, 0, 0],\n",
       " [0, 0, 0, 0, 0, 0, 1]]"
      ]
     },
     "execution_count": 5,
     "metadata": {},
     "output_type": "execute_result"
    }
   ],
   "source": [
    "matrix.mat"
   ]
  },
  {
   "cell_type": "code",
   "execution_count": 7,
   "metadata": {},
   "outputs": [],
   "source": [
    "# Adjacency List\n",
    "'''\n",
    "More efficient in terms of storage, only need to store the values for the edges\n",
    "Using linked list\n",
    "Like\n",
    "\n",
    "node = Node(val)\n",
    "node.link(node1)\n",
    "node.link(node2)\n",
    "'''\n",
    "\n",
    "from dataclasses import dataclass\n",
    "\n",
    "@dataclass\n",
    "class Vertex:\n",
    "    def __init__(self, value):\n",
    "        self.val = value\n",
    "        self.next = None\n",
    "    \n",
    "    \n",
    "class Graph:\n",
    "\n",
    "\n",
    "    def __init__(self, num):\n",
    "        self.numVertices = num\n",
    "        self.adjLists = [None] * self.numVertices\n",
    "        \n",
    "        \n",
    "    def add_vertex(self, v):\n",
    "        self.numVertices += 1\n",
    "        self.adjLists.append(v)\n",
    "\n",
    "\n",
    "    def add_edge(self, v1, v2):\n",
    "        \n",
    "        if not v2 in self.adjLists:\n",
    "           self.adjLists.append(v2)\n",
    "           \n",
    "        v1.next = self.adjLists[self.adjLists.index(v2)]\n",
    "        self.adjLists[self.adjLists.index(v2)] = v1\n",
    "\n",
    "        if not v1 in self.adjLists:\n",
    "           self.adjLists.append(v1)\n",
    "           \n",
    "        v2.next = self.adjLists[self.adjLists.index(v1)]\n",
    "        self.adjLists[self.adjLists.index(v1)] = v2\n",
    "        \n",
    "        \n",
    "    def print_graph(self):\n",
    "        \n",
    "        for i in range(self.numVertices):\n",
    "            print(\"Vertex \" + str(i) + \":\", end=\"\")\n",
    "            \n",
    "            temp = self.adjLists[i]\n",
    "            while temp:\n",
    "                print(\" -> {}\".format(temp.val), end=\"\")\n",
    "                temp = temp.next\n",
    "                \n",
    "            print(\" \\n\")"
   ]
  },
  {
   "cell_type": "code",
   "execution_count": 14,
   "metadata": {},
   "outputs": [
    {
     "data": {
      "text/plain": [
       "1"
      ]
     },
     "execution_count": 14,
     "metadata": {},
     "output_type": "execute_result"
    }
   ],
   "source": [
    "v1.next.val"
   ]
  },
  {
   "cell_type": "code",
   "execution_count": 11,
   "metadata": {},
   "outputs": [
    {
     "name": "stdout",
     "output_type": "stream",
     "text": [
      "1\n",
      "2\n"
     ]
    }
   ],
   "source": [
    "graph = Graph(0)\n",
    "v1 = Vertex(1)\n",
    "v2 = Vertex(2)\n",
    "\n",
    "graph.add_vertex(v1)\n",
    "print(graph.numVertices)\n",
    "graph.add_vertex(v2)\n",
    "print(graph.numVertices)\n",
    "graph.add_edge(v1, v2)\n",
    "# Error inf loop\n",
    "# graph.print_graph()"
   ]
  },
  {
   "cell_type": "code",
   "execution_count": 19,
   "metadata": {},
   "outputs": [
    {
     "name": "stdout",
     "output_type": "stream",
     "text": [
      "{1: [2, 3], 2: [1], 3: [1]}\n"
     ]
    },
    {
     "ename": "NameError",
     "evalue": "name 'sel' is not defined",
     "output_type": "error",
     "traceback": [
      "\u001b[0;31m---------------------------------------------------------------------------\u001b[0m",
      "\u001b[0;31mNameError\u001b[0m                                 Traceback (most recent call last)",
      "Cell \u001b[0;32mIn[19], line 47\u001b[0m\n\u001b[1;32m     44\u001b[0m graph\u001b[38;5;241m.\u001b[39madd_edge(\u001b[38;5;241m1\u001b[39m, \u001b[38;5;241m3\u001b[39m)\n\u001b[1;32m     45\u001b[0m \u001b[38;5;28mprint\u001b[39m(graph)  \u001b[38;5;66;03m# Output: {1: [2, 3], 2: [1], 3: [1]}\u001b[39;00m\n\u001b[0;32m---> 47\u001b[0m \u001b[43mgraph\u001b[49m\u001b[38;5;241;43m.\u001b[39;49m\u001b[43mremove_vertex\u001b[49m\u001b[43m(\u001b[49m\u001b[38;5;241;43m2\u001b[39;49m\u001b[43m)\u001b[49m\n\u001b[1;32m     48\u001b[0m \u001b[38;5;28mprint\u001b[39m(graph)  \u001b[38;5;66;03m# Output: {1: [3], 3: [1]}\u001b[39;00m\n\u001b[1;32m     50\u001b[0m graph\u001b[38;5;241m.\u001b[39madd_edge(\u001b[38;5;241m1\u001b[39m, \u001b[38;5;241m4\u001b[39m)\n",
      "Cell \u001b[0;32mIn[19], line 25\u001b[0m, in \u001b[0;36mGraph.remove_vertex\u001b[0;34m(self, vertex)\u001b[0m\n\u001b[1;32m     23\u001b[0m \u001b[38;5;28;01mfor\u001b[39;00m v \u001b[38;5;129;01min\u001b[39;00m \u001b[38;5;28mself\u001b[39m\u001b[38;5;241m.\u001b[39madj_list:\n\u001b[1;32m     24\u001b[0m     \u001b[38;5;28;01mif\u001b[39;00m vertex \u001b[38;5;129;01min\u001b[39;00m \u001b[38;5;28mself\u001b[39m\u001b[38;5;241m.\u001b[39madj_list[v]:\n\u001b[0;32m---> 25\u001b[0m         \u001b[43msel\u001b[49m\n\u001b[1;32m     26\u001b[0m         f\u001b[38;5;241m.\u001b[39madj_list[v]\u001b[38;5;241m.\u001b[39mremove(vertex)\n",
      "\u001b[0;31mNameError\u001b[0m: name 'sel' is not defined"
     ]
    }
   ],
   "source": [
    "class Graph:\n",
    "    \n",
    "    def __init__(self):\n",
    "        self.adj_list = {}\n",
    "\n",
    "\n",
    "    def add_vertex(self, vertex):\n",
    "        if vertex not in self.adj_list:\n",
    "            self.adj_list[vertex] = []\n",
    "\n",
    "\n",
    "    def add_edge(self, vertex1, vertex2):\n",
    "\n",
    "        self.add_vertex(vertex1)\n",
    "        self.add_vertex(vertex2)\n",
    "        self.adj_list[vertex1].append(vertex2)\n",
    "        self.adj_list[vertex2].append(vertex1) # For undirected graphs\n",
    "\n",
    "\n",
    "    def remove_vertex(self, vertex):\n",
    "        if vertex in self.adj_list:\n",
    "            del self.adj_list[vertex]\n",
    "            for v in self.adj_list:\n",
    "                if vertex in self.adj_list[v]:\n",
    "                    self.adj_list[v].remove(vertex)\n",
    "\n",
    "    def remove_edge(self, vertex1, vertex2):\n",
    "        if vertex1 in self.adj_list and vertex2 in self.adj_list[vertex1]:\n",
    "            self.adj_list[vertex1].remove(vertex2)\n",
    "        if vertex2 in self.adj_list and vertex1 in self.adj_list[vertex2]:\n",
    "            self.adj_list[vertex2].remove(vertex1)\n",
    "\n",
    "\n",
    "    def __str__(self):\n",
    "        return str(self.adj_list)\n",
    "\n",
    "\n",
    "graph = Graph()\n",
    "graph.add_vertex(1)\n",
    "graph.add_vertex(2)\n",
    "graph.add_edge(1, 2)\n",
    "graph.add_vertex(3)\n",
    "graph.add_edge(1, 3)\n",
    "print(graph)  # Output: {1: [2, 3], 2: [1], 3: [1]}\n",
    "\n",
    "graph.remove_vertex(2)\n",
    "print(graph)  # Output: {1: [3], 3: [1]}\n",
    "\n",
    "graph.add_edge(1, 4)\n",
    "print(graph)  # Output: {1: [3, 4], 3: [1], 4: [1]}"
   ]
  },
  {
   "cell_type": "code",
   "execution_count": 6,
   "metadata": {},
   "outputs": [
    {
     "name": "stdout",
     "output_type": "stream",
     "text": [
      "Vertex 0: -> 3 -> 2 -> 1 \n",
      "\n",
      "Vertex 1: -> 2 -> 0 \n",
      "\n",
      "Vertex 2: -> 1 -> 0 \n",
      "\n",
      "Vertex 3: -> 0 \n",
      "\n",
      "Vertex 4: \n",
      "\n"
     ]
    }
   ],
   "source": [
    "# Adjascency List representation in Python\n",
    "\n",
    "\n",
    "class AdjNode:\n",
    "    def __init__(self, value):\n",
    "        self.vertex = value\n",
    "        self.next = None\n",
    "\n",
    "\n",
    "class Graph:\n",
    "    def __init__(self, num):\n",
    "        self.V = num\n",
    "        self.graph = [None] * self.V\n",
    "\n",
    "    # Add edges\n",
    "    def add_edge(self, s, d):\n",
    "        node = AdjNode(d)\n",
    "        node.next = self.graph[s]\n",
    "        self.graph[s] = node\n",
    "\n",
    "        node = AdjNode(s)\n",
    "        node.next = self.graph[d]\n",
    "        self.graph[d] = node\n",
    "\n",
    "    # Print the graph\n",
    "    def print_agraph(self):\n",
    "        for i in range(self.V):\n",
    "            print(\"Vertex \" + str(i) + \":\", end=\"\")\n",
    "            temp = self.graph[i]\n",
    "            while temp:\n",
    "                print(\" -> {}\".format(temp.vertex), end=\"\")\n",
    "                temp = temp.next\n",
    "            print(\" \\n\")\n",
    "\n",
    "\n",
    "\n",
    "V = 5\n",
    "\n",
    "# Create graph and edges\n",
    "graph = Graph(V)\n",
    "graph.add_edge(0, 1)\n",
    "graph.add_edge(0, 2)\n",
    "graph.add_edge(0, 3)\n",
    "graph.add_edge(1, 2)\n",
    "\n",
    "graph.print_agraph()"
   ]
  },
  {
   "cell_type": "code",
   "execution_count": null,
   "metadata": {},
   "outputs": [],
   "source": [
    "graph.V"
   ]
  },
  {
   "cell_type": "code",
   "execution_count": null,
   "metadata": {},
   "outputs": [],
   "source": [
    "'''\n",
    "Check if the element is present in the graph\n",
    "Graph Traversal\n",
    "Add elements(vertex, edges) to graph\n",
    "Finding the path from one vertex to another\n",
    "'''"
   ]
  },
  {
   "cell_type": "code",
   "execution_count": null,
   "metadata": {},
   "outputs": [],
   "source": [
    "'''\n",
    "Spaning tree\n",
    "is a sup-graph, it is one of possibilitie of a graph that all vertex are conntected\n",
    "the number of possiblities is n^(n-2)\n",
    "'''"
   ]
  }
 ],
 "metadata": {
  "kernelspec": {
   "display_name": "dataeng",
   "language": "python",
   "name": "python3"
  },
  "language_info": {
   "codemirror_mode": {
    "name": "ipython",
    "version": 3
   },
   "file_extension": ".py",
   "mimetype": "text/x-python",
   "name": "python",
   "nbconvert_exporter": "python",
   "pygments_lexer": "ipython3",
   "version": "3.9.16"
  }
 },
 "nbformat": 4,
 "nbformat_minor": 2
}
