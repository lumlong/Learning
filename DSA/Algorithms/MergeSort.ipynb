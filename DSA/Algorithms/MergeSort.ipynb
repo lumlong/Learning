{
 "cells": [
  {
   "cell_type": "code",
   "execution_count": null,
   "metadata": {},
   "outputs": [],
   "source": [
    "arr = [9,7,1,3,6,8]\n",
    "\n",
    "def merge_sort(arr, p, q):\n",
    "    \n",
    "    l = arr[]"
   ]
  }
 ],
 "metadata": {
  "language_info": {
   "name": "python"
  }
 },
 "nbformat": 4,
 "nbformat_minor": 2
}
