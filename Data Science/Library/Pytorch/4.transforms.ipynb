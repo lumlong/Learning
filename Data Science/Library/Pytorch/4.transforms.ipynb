{
 "cells": [
  {
   "cell_type": "markdown",
   "metadata": {},
   "source": [
    "# Transforms"
   ]
  },
  {
   "cell_type": "code",
   "execution_count": null,
   "metadata": {},
   "outputs": [],
   "source": [
    "import torch\n",
    "from torchvision import datasets\n",
    "# This is transform function\n",
    "from torchvision.transforms import ToTensor, Lambda\n",
    "\n",
    "ds = datasets.FashionMNIST(\n",
    "    root=\"data\",\n",
    "    train=True,\n",
    "    download=True,\n",
    "    # ToTensor converts a PIL image or NumPy ndarray into a FloatTensor. \n",
    "    # and scales the image’s pixel intensity values in the range [0., 1.]\n",
    "    transform=ToTensor(),\n",
    "    # Lambda transforms apply any user-defined lambda function. \n",
    "    # define a function to turn the integer into a one-hot encoded tensor. \n",
    "    target_transform=Lambda(lambda y: \n",
    "        # creates a zero tensor of size 10\n",
    "        torch.zeros(10, dtype=torch.float)\n",
    "        # and calls scatter_ which assigns a value=1 on the index as given by the label y.\n",
    "        .scatter_(0, torch.tensor(y), value=1))\n",
    ")"
   ]
  }
 ],
 "metadata": {
  "kernelspec": {
   "display_name": "mlenv",
   "language": "python",
   "name": "python3"
  },
  "language_info": {
   "name": "python",
   "version": "3.12.7"
  }
 },
 "nbformat": 4,
 "nbformat_minor": 2
}
