{
 "cells": [
  {
   "cell_type": "code",
   "execution_count": 7,
   "metadata": {},
   "outputs": [],
   "source": [
    "def naiveSort(arr):\n",
    "    '''\n",
    "    Compare each item with the rest items\n",
    "    Iterative each item = O(n)\n",
    "        Each item compare = O(n/2) \n",
    "        - furher i less to comapre\n",
    "        - think of triangle instead of each must compare to all (regtangle)\n",
    "    Total time = O(n) * O(n/2)\n",
    "    '''\n",
    "    n = len(arr)\n",
    "    \n",
    "    for i in range(n):\n",
    "        for j in range(i, n, 1):\n",
    "            if arr[i] > arr[j]:\n",
    "                arr[i], arr[j] = arr[j], arr[i] "
   ]
  },
  {
   "cell_type": "code",
   "execution_count": 8,
   "metadata": {},
   "outputs": [
    {
     "data": {
      "text/plain": [
       "[2, 3, 4, 7, 8, 9]"
      ]
     },
     "execution_count": 8,
     "metadata": {},
     "output_type": "execute_result"
    }
   ],
   "source": [
    "arr = [7,4,2,8,3,9]\n",
    "\n",
    "naiveSort(arr)\n",
    "arr"
   ]
  }
 ],
 "metadata": {
  "kernelspec": {
   "display_name": "dataeng",
   "language": "python",
   "name": "python3"
  },
  "language_info": {
   "codemirror_mode": {
    "name": "ipython",
    "version": 3
   },
   "file_extension": ".py",
   "mimetype": "text/x-python",
   "name": "python",
   "nbconvert_exporter": "python",
   "pygments_lexer": "ipython3",
   "version": "3.9.16"
  }
 },
 "nbformat": 4,
 "nbformat_minor": 2
}
