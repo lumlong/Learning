{
 "cells": [
  {
   "cell_type": "code",
   "execution_count": 23,
   "metadata": {},
   "outputs": [],
   "source": [
    "def insertionSort(arr):\n",
    "    '''\n",
    "    For each i, you compare with the one j before.\n",
    "    If find j that < than i, \n",
    "        Move all prev j 1 step up until we found the place for i.\n",
    "    Insert i to the available space.\n",
    "\n",
    "    Think like sorting cards on your hand\n",
    "    '''\n",
    "    \n",
    "    n = len(arr)\n",
    "    \n",
    "    # Start from 1\n",
    "    for i in range(1, n):\n",
    "        # Current value\n",
    "        key = arr[i]\n",
    "        j = i-1\n",
    "        \n",
    "        # Compare key with prev, if key < them\n",
    "        while j >= 0 and key < arr[j]:\n",
    "            # Move up\n",
    "            arr[i] = arr[j]\n",
    "            # Go to prev one\n",
    "            j = j-1\n",
    "            \n",
    "        # After move up all val that j > key 1 step up, \n",
    "        # until reach where j <= key replace(insert) the position with key\n",
    "        arr[j+1] = key"
   ]
  },
  {
   "cell_type": "code",
   "execution_count": 24,
   "metadata": {},
   "outputs": [
    {
     "data": {
      "text/plain": [
       "[2, 3, 4, 8, 7, 9]"
      ]
     },
     "execution_count": 24,
     "metadata": {},
     "output_type": "execute_result"
    }
   ],
   "source": [
    "arr = [7,4,2,8,3,9]\n",
    "\n",
    "insertionSort(arr)\n",
    "arr"
   ]
  },
  {
   "cell_type": "code",
   "execution_count": null,
   "metadata": {},
   "outputs": [],
   "source": []
  }
 ],
 "metadata": {
  "kernelspec": {
   "display_name": "dataeng",
   "language": "python",
   "name": "python3"
  },
  "language_info": {
   "codemirror_mode": {
    "name": "ipython",
    "version": 3
   },
   "file_extension": ".py",
   "mimetype": "text/x-python",
   "name": "python",
   "nbconvert_exporter": "python",
   "pygments_lexer": "ipython3",
   "version": "3.9.16"
  }
 },
 "nbformat": 4,
 "nbformat_minor": 2
}
