{
 "cells": [
  {
   "cell_type": "code",
   "execution_count": 1,
   "metadata": {},
   "outputs": [],
   "source": [
    "class Node:\n",
    "    next = None\n",
    "    val = None\n",
    "    \n",
    "    def __init__(self, val):\n",
    "        self.val = val"
   ]
  },
  {
   "cell_type": "code",
   "execution_count": 36,
   "metadata": {},
   "outputs": [],
   "source": [
    "head = Node(4)\n",
    "curr = head\n",
    "\n",
    "for x in [8,7,9,5,2,1,0]:\n",
    "    curr.next = Node(x)\n",
    "    curr = curr.next"
   ]
  },
  {
   "cell_type": "code",
   "execution_count": 37,
   "metadata": {},
   "outputs": [
    {
     "name": "stdout",
     "output_type": "stream",
     "text": [
      "4\n",
      "8\n",
      "7\n",
      "9\n",
      "5\n",
      "2\n",
      "1\n",
      "0\n"
     ]
    }
   ],
   "source": [
    "def print_list(head):\n",
    "    if head != None:\n",
    "        print(head.val)\n",
    "        print_list(head.next)\n",
    "    \n",
    "print_list(head)"
   ]
  },
  {
   "cell_type": "code",
   "execution_count": 42,
   "metadata": {},
   "outputs": [],
   "source": [
    "def secondSmallest(head, smallest, sec_smallest):\n",
    "    '''\n",
    "    Find second smallest in linked_list using recursion\n",
    "    '''\n",
    "    \n",
    "    if head == None:\n",
    "        return\n",
    "    \n",
    "    if head.val < smallest.val:\n",
    "        sec_smallest = smallest\n",
    "        smallest = head\n",
    "        print(f'2nd smallest is: {sec_smallest.val}')\n",
    "        print(f'smallest is: {smallest.val}')\n",
    "    \n",
    "    secondSmallest(head.next, smallest, sec_smallest)"
   ]
  },
  {
   "cell_type": "code",
   "execution_count": 43,
   "metadata": {},
   "outputs": [
    {
     "name": "stdout",
     "output_type": "stream",
     "text": [
      "2nd smallest is: 4\n",
      "smallest is: 2\n",
      "2nd smallest is: 2\n",
      "smallest is: 1\n",
      "2nd smallest is: 1\n",
      "smallest is: 0\n"
     ]
    }
   ],
   "source": [
    "secondSmallest(head, head, head) #1"
   ]
  }
 ],
 "metadata": {
  "kernelspec": {
   "display_name": "dataeng",
   "language": "python",
   "name": "python3"
  },
  "language_info": {
   "codemirror_mode": {
    "name": "ipython",
    "version": 3
   },
   "file_extension": ".py",
   "mimetype": "text/x-python",
   "name": "python",
   "nbconvert_exporter": "python",
   "pygments_lexer": "ipython3",
   "version": "3.9.16"
  }
 },
 "nbformat": 4,
 "nbformat_minor": 2
}
