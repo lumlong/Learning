{
 "cells": [
  {
   "cell_type": "code",
   "execution_count": 5,
   "metadata": {},
   "outputs": [],
   "source": [
    "def tree(arr):\n",
    "    \n",
    "    # Based case = ['-', 2, 3] no more list to recursive\n",
    "    if type(arr) != list:\n",
    "        return arr\n",
    "    \n",
    "    oper = tree(arr[0])\n",
    "    left = tree(arr[1])\n",
    "    right = tree(arr[2])\n",
    "    \n",
    "    if oper == '+':\n",
    "        return left + right\n",
    "    elif oper == '-':\n",
    "        return left - right\n",
    "    elif oper == '*':\n",
    "        return left * right\n",
    "    else:\n",
    "        raise ValueError(\"Invalid operator\")"
   ]
  },
  {
   "cell_type": "code",
   "execution_count": 6,
   "metadata": {},
   "outputs": [
    {
     "data": {
      "text/plain": [
       "28"
      ]
     },
     "execution_count": 6,
     "metadata": {},
     "output_type": "execute_result"
    }
   ],
   "source": [
    "'''\n",
    "                    *\n",
    "                /       \\\n",
    "           +               -\n",
    "        /     \\         /     \\\n",
    "      -        *       2       9\n",
    "     / \\      / \\\n",
    "    2   3   -1   3\n",
    "'''\n",
    "\n",
    "# 2-3 + -1*3 * 2-9\n",
    "# -1+-3 * -7\n",
    "# -4*-7\n",
    "# 28\n",
    "\n",
    "# Step\n",
    "# *\n",
    "  # ['+', ['-', 2, 3], ['*', -1, 3]]\n",
    "    # -\n",
    "    # ['-', 2, 3]\n",
    "      # -\n",
    "      # l\n",
    "      # r\n",
    "      # operation\n",
    "        \n",
    "treeArr = ['*', ['+', ['-', 2, 3], ['*', -1, 3]], ['-', 2, 9]]\n",
    "\n",
    "tree(treeArr)"
   ]
  },
  {
   "cell_type": "code",
   "execution_count": null,
   "metadata": {},
   "outputs": [],
   "source": []
  }
 ],
 "metadata": {
  "kernelspec": {
   "display_name": "dataeng",
   "language": "python",
   "name": "python3"
  },
  "language_info": {
   "codemirror_mode": {
    "name": "ipython",
    "version": 3
   },
   "file_extension": ".py",
   "mimetype": "text/x-python",
   "name": "python",
   "nbconvert_exporter": "python",
   "pygments_lexer": "ipython3",
   "version": "3.9.16"
  }
 },
 "nbformat": 4,
 "nbformat_minor": 2
}
