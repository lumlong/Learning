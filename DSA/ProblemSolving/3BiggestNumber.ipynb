{
 "cells": [
  {
   "cell_type": "code",
   "execution_count": 50,
   "metadata": {},
   "outputs": [],
   "source": [
    "# If fixed small bigest use this\n",
    "# Else if not fixed biggest -> use heap sort \n",
    "\n",
    "arr = [1,4,7,9,2,6,1]\n",
    "\n",
    "def find3bigest(arr):\n",
    "    '''\n",
    "    input list[int]\n",
    "    output list index of 3 biggest number\n",
    "    '''\n",
    "    \n",
    "    biggest_list = [0,0,0]\n",
    "    \n",
    "    for i in range(len(arr)):\n",
    "        \n",
    "        if arr[i] > arr[biggest_list[0]]:\n",
    "            biggest_list[2] = biggest_list[1]\n",
    "            biggest_list[1] = biggest_list[0]\n",
    "            biggest_list[0] = i\n",
    "            \n",
    "        elif arr[i] > arr[biggest_list[1]] and arr[i] != arr[biggest_list[0]]:\n",
    "            biggest_list[2] = biggest_list[1]\n",
    "            biggest_list[1] = i\n",
    "\n",
    "        elif arr[i] > arr[biggest_list[2]]: #and arr[i] != arr[biggest_list[1]] and arr[i] != arr[biggest_list[0]]:\n",
    "            biggest_list[2] = i\n",
    "    \n",
    "    return biggest_list"
   ]
  },
  {
   "cell_type": "code",
   "execution_count": 51,
   "metadata": {},
   "outputs": [
    {
     "data": {
      "text/plain": [
       "[3, 2, 5]"
      ]
     },
     "execution_count": 51,
     "metadata": {},
     "output_type": "execute_result"
    }
   ],
   "source": [
    "result = find3bigest(arr)\n",
    "result #[3,2,5]"
   ]
  }
 ],
 "metadata": {
  "kernelspec": {
   "display_name": "dataeng",
   "language": "python",
   "name": "python3"
  },
  "language_info": {
   "codemirror_mode": {
    "name": "ipython",
    "version": 3
   },
   "file_extension": ".py",
   "mimetype": "text/x-python",
   "name": "python",
   "nbconvert_exporter": "python",
   "pygments_lexer": "ipython3",
   "version": "3.9.16"
  }
 },
 "nbformat": 4,
 "nbformat_minor": 2
}
