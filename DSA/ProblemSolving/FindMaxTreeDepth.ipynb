{
 "cells": [
  {
   "cell_type": "code",
   "execution_count": 16,
   "metadata": {},
   "outputs": [],
   "source": [
    "class Node:\n",
    "    left = None\n",
    "    right = None\n",
    "    val = None\n",
    "    \n",
    "    def __init__(self, val):\n",
    "        self.val = val"
   ]
  },
  {
   "cell_type": "code",
   "execution_count": 32,
   "metadata": {},
   "outputs": [],
   "source": [
    "def list_to_BF_binary_tree(arr):\n",
    "\n",
    "    n = len(arr)\n",
    "    queue = []\n",
    "\n",
    "    for i in range(n):\n",
    "        if i == 0:\n",
    "            root = Node(arr[0])\n",
    "            curr = root\n",
    "            \n",
    "        l = i*2+1\n",
    "        r = i*2+2\n",
    "        \n",
    "        if l < n:\n",
    "            curr.left = Node(arr[l])\n",
    "            queue.append(curr.left)\n",
    "        if r < n:\n",
    "            curr.right = Node(arr[r])\n",
    "            queue.append(curr.right)\n",
    "        if queue:\n",
    "            curr = queue.pop(0)\n",
    "    \n",
    "    return root"
   ]
  },
  {
   "cell_type": "code",
   "execution_count": 33,
   "metadata": {},
   "outputs": [],
   "source": [
    "arr = [1,2,3,4,5,6,7,8]\n",
    "\n",
    "'''\n",
    "              1\n",
    "        2           3\n",
    "    4       5   6       7\n",
    "8\n",
    "'''\n",
    "\n",
    "root = list_to_BF_binary_tree(arr)"
   ]
  },
  {
   "cell_type": "code",
   "execution_count": 52,
   "metadata": {},
   "outputs": [],
   "source": [
    "def print_BF_binary_tree(root):\n",
    "    \n",
    "    curr = root\n",
    "    queue = []\n",
    "    \n",
    "    print(curr.val)\n",
    "    \n",
    "    while curr:\n",
    "        if curr.left:\n",
    "            print(curr.left.val)\n",
    "            queue.append(curr.left)\n",
    "        if curr.right:\n",
    "            print(curr.right.val)\n",
    "            queue.append(curr.right)\n",
    "        if queue:\n",
    "            curr = queue.pop(0)\n",
    "        else: curr = None"
   ]
  },
  {
   "cell_type": "code",
   "execution_count": 53,
   "metadata": {},
   "outputs": [
    {
     "name": "stdout",
     "output_type": "stream",
     "text": [
      "1\n",
      "2\n",
      "3\n",
      "4\n",
      "5\n",
      "6\n",
      "7\n",
      "8\n"
     ]
    }
   ],
   "source": [
    "print_BF_binary_tree(root)"
   ]
  },
  {
   "cell_type": "code",
   "execution_count": 54,
   "metadata": {},
   "outputs": [],
   "source": [
    "def max_depth(root):\n",
    "\n",
    "  if not root:\n",
    "    return 0\n",
    "\n",
    "  left_depth = max_depth(root.left)\n",
    "  right_depth = max_depth(root.right)\n",
    "\n",
    "  return max(left_depth, right_depth) + 1"
   ]
  },
  {
   "cell_type": "code",
   "execution_count": 55,
   "metadata": {},
   "outputs": [
    {
     "data": {
      "text/plain": [
       "4"
      ]
     },
     "execution_count": 55,
     "metadata": {},
     "output_type": "execute_result"
    }
   ],
   "source": [
    "max_depth(root) # 4"
   ]
  }
 ],
 "metadata": {
  "kernelspec": {
   "display_name": "dataeng",
   "language": "python",
   "name": "python3"
  },
  "language_info": {
   "codemirror_mode": {
    "name": "ipython",
    "version": 3
   },
   "file_extension": ".py",
   "mimetype": "text/x-python",
   "name": "python",
   "nbconvert_exporter": "python",
   "pygments_lexer": "ipython3",
   "version": "3.9.16"
  }
 },
 "nbformat": 4,
 "nbformat_minor": 2
}
