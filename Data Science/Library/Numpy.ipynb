{
 "cells": [
  {
   "cell_type": "markdown",
   "metadata": {},
   "source": [
    "Numpy help you to working woth arrays efficiently, with fuctions for working in domain of linear algebra, matrics"
   ]
  },
  {
   "cell_type": "code",
   "execution_count": 1,
   "metadata": {},
   "outputs": [],
   "source": [
    "import numpy as np"
   ]
  },
  {
   "cell_type": "code",
   "execution_count": 10,
   "metadata": {},
   "outputs": [],
   "source": [
    "# Create an array\n",
    "arr1D = np.array([1,2,3,4,5,6])\n",
    "arr2D = np.array([[1,2,3], \n",
    "                  [4,5,6]])\n",
    "arr3D = np.array([[[1,2,3], \n",
    "                   [4,5,6]], \n",
    "                      [[1,2,3], \n",
    "                       [4,5,6]]])"
   ]
  },
  {
   "cell_type": "code",
   "execution_count": 11,
   "metadata": {},
   "outputs": [
    {
     "data": {
      "text/plain": [
       "3"
      ]
     },
     "execution_count": 11,
     "metadata": {},
     "output_type": "execute_result"
    }
   ],
   "source": [
    "# Check dimension\n",
    "arr3D.ndim"
   ]
  },
  {
   "cell_type": "code",
   "execution_count": 12,
   "metadata": {},
   "outputs": [
    {
     "data": {
      "text/plain": [
       "np.int64(6)"
      ]
     },
     "execution_count": 12,
     "metadata": {},
     "output_type": "execute_result"
    }
   ],
   "source": [
    "# Array indexing\n",
    "arr1D[1]\n",
    "arr2D[1,2]"
   ]
  },
  {
   "cell_type": "code",
   "execution_count": 13,
   "metadata": {},
   "outputs": [
    {
     "data": {
      "text/plain": [
       "'\\nvarNameOfArray[dim1-startIndex:endIndex:step, dim2,..., dimN]\\n'"
      ]
     },
     "execution_count": 13,
     "metadata": {},
     "output_type": "execute_result"
    }
   ],
   "source": [
    "# Array sliceing\n",
    "arr2D[0:2, 0:2]\n",
    "'''\n",
    "varNameOfArray[dim1-startIndex:endIndex:step, dim2,..., dimN]\n",
    "'''"
   ]
  },
  {
   "cell_type": "code",
   "execution_count": 14,
   "metadata": {},
   "outputs": [],
   "source": [
    "# Data type\n",
    "'''\n",
    "i - integer\n",
    "b - boolean\n",
    "u - unsigned integer\n",
    "f - float\n",
    "c - complex float\n",
    "m - timedelta\n",
    "M - datetime\n",
    "O - object\n",
    "S - string\n",
    "U - unicode string\n",
    "V - fixed chunk of memory for other type ( void )\n",
    "'''\n",
    "# Check type of an arra\n",
    "arr1D.dtype\n",
    "strArr = np.array([1, 2, 3, 4], dtype='S')\n",
    "intArr = strArr.astype('i')"
   ]
  },
  {
   "cell_type": "code",
   "execution_count": 18,
   "metadata": {},
   "outputs": [
    {
     "name": "stdout",
     "output_type": "stream",
     "text": [
      "[42  2  3  4  5  6]\n",
      "[42  2  3  4  5  6]\n",
      "[42  2  3  4  5  6]\n",
      "[42  2  3  4  5  6]\n",
      "[[1 2 3]\n",
      " [4 5 6]]\n"
     ]
    }
   ],
   "source": [
    "# Copy vs View\n",
    "\n",
    "# Copy : not affected to the origina array\n",
    "copy_arr = arr1D.copy()\n",
    "\n",
    "arr1D[0] = 42\n",
    "print(arr1D)\n",
    "print(copy_arr)\n",
    "\n",
    "# View : \n",
    "view_arr = arr1D.view()\n",
    "\n",
    "arr1D[0] = 42\n",
    "print(arr1D)\n",
    "print(view_arr)\n",
    "\n",
    "# Check it is copy or view\n",
    "print(arr2D.reshape(3, 2).base)"
   ]
  },
  {
   "cell_type": "code",
   "execution_count": 20,
   "metadata": {},
   "outputs": [
    {
     "name": "stdout",
     "output_type": "stream",
     "text": [
      "(6,)\n",
      "[42  2  3  4  5  6]\n",
      "(3, 2)\n",
      "[[42  2]\n",
      " [ 3  4]\n",
      " [ 5  6]]\n",
      "[[42  2]\n",
      " [ 3  4]\n",
      " [ 5  6]]\n",
      "[42  2  3  4  5  6]\n"
     ]
    }
   ],
   "source": [
    "# Shape & Reshape\n",
    "\n",
    "print(arr1D.shape)\n",
    "print(arr1D)\n",
    "\n",
    "# Reshape\n",
    "print(arr1D.reshape(3,2).shape)\n",
    "print(arr1D.reshape(3,2))\n",
    "\n",
    "# Unknow dimesion, use -1\n",
    "print(arr1D.reshape(3,-1))\n",
    "\n",
    "# Reshape is view not copy\n",
    "# Use .base to check the original data, arr1D is still 1D array\n",
    "print(arr1D.reshape(3,2).base)"
   ]
  },
  {
   "cell_type": "code",
   "execution_count": 21,
   "metadata": {},
   "outputs": [
    {
     "name": "stdout",
     "output_type": "stream",
     "text": [
      "42\n",
      "2\n",
      "3\n",
      "4\n",
      "5\n",
      "6\n",
      "[1 2 3]\n",
      "[4 5 6]\n",
      "1\n",
      "2\n",
      "3\n",
      "4\n",
      "5\n",
      "6\n"
     ]
    }
   ],
   "source": [
    "# Iterating Arrays\n",
    "\n",
    "for x in arr1D:\n",
    "    print(x)\n",
    "\n",
    "# Multidimensional Arrays\n",
    "for x in arr2D:\n",
    "    print(x)\n",
    "\n",
    "for x in arr2D:\n",
    "    for y in x:\n",
    "        print(y)"
   ]
  },
  {
   "cell_type": "code",
   "execution_count": 24,
   "metadata": {},
   "outputs": [],
   "source": [
    "# Join\n",
    "\n",
    "arr1D_2 = np.array([6,3,9])\n",
    "\n",
    "concat_arr = np.concat((arr1D, arr1D_2)) # Must have same dimension"
   ]
  },
  {
   "cell_type": "code",
   "execution_count": 25,
   "metadata": {},
   "outputs": [
    {
     "name": "stdout",
     "output_type": "stream",
     "text": [
      "[array([42,  2]), array([3, 4]), array([5, 6])]\n"
     ]
    }
   ],
   "source": [
    "# Split\n",
    "\n",
    "print(np.array_split(arr1D, 3)) # Split to 3 parts"
   ]
  },
  {
   "cell_type": "code",
   "execution_count": null,
   "metadata": {},
   "outputs": [],
   "source": []
  }
 ],
 "metadata": {
  "kernelspec": {
   "display_name": "dataeng",
   "language": "python",
   "name": "python3"
  },
  "language_info": {
   "codemirror_mode": {
    "name": "ipython",
    "version": 3
   },
   "file_extension": ".py",
   "mimetype": "text/x-python",
   "name": "python",
   "nbconvert_exporter": "python",
   "pygments_lexer": "ipython3",
   "version": "3.9.16"
  }
 },
 "nbformat": 4,
 "nbformat_minor": 2
}
