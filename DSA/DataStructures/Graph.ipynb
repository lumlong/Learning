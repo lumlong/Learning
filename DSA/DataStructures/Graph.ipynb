{
 "cells": [
  {
   "cell_type": "code",
   "execution_count": 1,
   "metadata": {},
   "outputs": [],
   "source": [
    "# Graph representation\n",
    "'''\n",
    "Adjacency Matrix\n",
    "Edge lookup is fast \n",
    "but requires more space. it reserve space for every possible link between all vertices(V x V) \n",
    "'''\n",
    "class AdjacencyMatrix:\n",
    "    \n",
    "    def __init__(self, n):\n",
    "        self.max_n = n\n",
    "        self.mat = [[0 for _ in range(n)] for _ in range(n)]\n",
    "    \n",
    "    def _increase_size(self, n):\n",
    "        if n > self.max_n:\n",
    "            diff = n - self.max_n\n",
    "            for i in range(self.max_n):\n",
    "                for _ in range(diff):\n",
    "                    self.mat[i].append(0)\n",
    "            for _ in range(diff):\n",
    "                self.mat.append([0] * n)\n",
    "        self.max_n = n\n",
    "        \n",
    "        \n",
    "    def add_edge(self, i, j):\n",
    "        \n",
    "        if i > j:\n",
    "            self._increase_size(i)\n",
    "        else:\n",
    "            self._increase_size(j)\n",
    "            \n",
    "        i = i-1\n",
    "        j = j-1\n",
    "            \n",
    "        self.mat[i][j] = 1\n",
    "        self.mat[j][i] = 1 # graph is undirectional"
   ]
  },
  {
   "cell_type": "code",
   "execution_count": 2,
   "metadata": {},
   "outputs": [
    {
     "data": {
      "text/plain": [
       "[[0, 0, 1, 0, 0],\n",
       " [0, 0, 1, 0, 0],\n",
       " [0, 0, 1, 0, 0],\n",
       " [0, 0, 1, 0, 0],\n",
       " [0, 0, 1, 0, 0],\n",
       " [0, 0, 1, 0, 0]]"
      ]
     },
     "execution_count": 2,
     "metadata": {},
     "output_type": "execute_result"
    }
   ],
   "source": [
    "# my mistake\n",
    "# Create list this way, it point to the same value, making whole colume 0 or 2\n",
    "cols, rows = (5,6)\n",
    "mat = [[0] * cols] * rows\n",
    "mat[0][2] = 1\n",
    "mat"
   ]
  },
  {
   "cell_type": "code",
   "execution_count": 3,
   "metadata": {},
   "outputs": [
    {
     "data": {
      "text/plain": [
       "[[0, 0, 1, 0, 0],\n",
       " [0, 0, 0, 0, 0],\n",
       " [0, 0, 0, 0, 0],\n",
       " [0, 0, 0, 0, 0],\n",
       " [0, 0, 0, 0, 0],\n",
       " [0, 0, 0, 0, 0]]"
      ]
     },
     "execution_count": 3,
     "metadata": {},
     "output_type": "execute_result"
    }
   ],
   "source": [
    "# vs create each elemetns using loop\n",
    "cols, rows = (5,6)\n",
    "mat = [[0 for _ in range(cols)] for _ in range(rows)]\n",
    "mat[0][2] = 1\n",
    "mat"
   ]
  },
  {
   "cell_type": "code",
   "execution_count": 4,
   "metadata": {},
   "outputs": [],
   "source": [
    "matrix = AdjacencyMatrix(5)\n",
    "matrix.add_edge(7, 7)\n",
    "matrix.add_edge(4, 4)"
   ]
  },
  {
   "cell_type": "code",
   "execution_count": 5,
   "metadata": {},
   "outputs": [
    {
     "data": {
      "text/plain": [
       "[[0, 0, 0, 0, 0, 0, 0],\n",
       " [0, 0, 0, 0, 0, 0, 0],\n",
       " [0, 0, 0, 0, 0, 0, 0],\n",
       " [0, 0, 0, 1, 0, 0, 0],\n",
       " [0, 0, 0, 0, 0, 0, 0],\n",
       " [0, 0, 0, 0, 0, 0, 0],\n",
       " [0, 0, 0, 0, 0, 0, 1]]"
      ]
     },
     "execution_count": 5,
     "metadata": {},
     "output_type": "execute_result"
    }
   ],
   "source": [
    "matrix.mat"
   ]
  },
  {
   "cell_type": "code",
   "execution_count": 63,
   "metadata": {},
   "outputs": [],
   "source": [
    "# Adjacency List\n",
    "'''\n",
    "More efficient in terms of storage, only need to store the values for the edges\n",
    "Using linked list\n",
    "'''\n",
    "\n",
    "class Node:\n",
    "    def __init__(self, vertex, value=None):\n",
    "        self.vertex = vertex\n",
    "        self.value = value\n",
    "        self.next = None\n",
    "\n",
    "\n",
    "class Graph:\n",
    "\n",
    "    def __init__(self, n):\n",
    "        self.n = n\n",
    "        self.graph = [None] * n\n",
    "\n",
    "    def add_edge(self, src, dest, value=None):\n",
    "        node = Node(dest, value)\n",
    "        node.next = self.graph[src]\n",
    "        self.graph[src]=node\n",
    "\n",
    "        node = Node(src,value)\n",
    "        node.next = self.graph[dest]\n",
    "        self.graph[dest] = node\n",
    "\n",
    "\n",
    "    def print_graph(self):\n",
    "        for i,n in enumerate(self.graph):\n",
    "            linked_list = []\n",
    "            while n != None:\n",
    "                linked_list.append(str(n.vertex))\n",
    "                n = n.next\n",
    "            print(f'Node {i} -> '+' -> '.join(linked_list))"
   ]
  },
  {
   "cell_type": "code",
   "execution_count": 64,
   "metadata": {},
   "outputs": [
    {
     "name": "stdout",
     "output_type": "stream",
     "text": [
      "Node 0 -> 4 -> 1\n",
      "Node 1 -> 2 -> 3 -> 4 -> 0\n",
      "Node 2 -> 3 -> 1\n",
      "Node 3 -> 2 -> 4 -> 1\n",
      "Node 4 -> 3 -> 1 -> 0\n"
     ]
    }
   ],
   "source": [
    "g = Graph(5)\n",
    "g.add_edge(0,1,4)\n",
    "g.add_edge(0,4,1)\n",
    "g.add_edge(1,4,4)\n",
    "g.add_edge(1,3,1)\n",
    "g.add_edge(1,2,2)\n",
    "g.add_edge(3,4,1)\n",
    "g.add_edge(2,3,3)\n",
    "\n",
    "g.print_graph()"
   ]
  },
  {
   "cell_type": "code",
   "execution_count": 66,
   "metadata": {},
   "outputs": [],
   "source": [
    "# Adjacency List\n",
    "# 2nd attempt\n",
    "\n",
    "class Vertex:\n",
    "    def __init__(self, value):\n",
    "        self.val = value\n",
    "    \n",
    "    \n",
    "class Graph:\n",
    "    def __init__(self, num):\n",
    "        self.numVertices = num\n",
    "        self.adjLists = {}\n",
    "        \n",
    "        \n",
    "    def add_vertex(self, v):\n",
    "        if not v in self.adjLists:\n",
    "            self.adjLists[v] = []\n",
    "            self.numVertices += 1\n",
    "            \n",
    "    \n",
    "    def add_edge(self, v1, v2, w):\n",
    "        self.adjLists[v1].append((v2, w))\n",
    "\n",
    "        \n",
    "    def __str__(self):\n",
    "        return str(self.adjLists)"
   ]
  },
  {
   "cell_type": "code",
   "execution_count": 67,
   "metadata": {},
   "outputs": [],
   "source": [
    "graph = Graph(0)\n",
    "v1 = Vertex(1)\n",
    "v2 = Vertex(2)\n",
    "graph.add_vertex(v1)\n",
    "graph.add_vertex(v2)\n",
    "graph.add_edge(v1, v2, 2)"
   ]
  },
  {
   "cell_type": "code",
   "execution_count": 22,
   "metadata": {},
   "outputs": [],
   "source": [
    "class Graph:\n",
    "    \n",
    "    def __init__(self):\n",
    "        self.adjList = {}\n",
    "\n",
    "\n",
    "    def add_vertex(self, vertex):\n",
    "        if vertex not in self.adjList:\n",
    "            self.adjList[vertex] = []\n",
    "\n",
    "\n",
    "    def add_edge(self, vertex1, vertex2):\n",
    "\n",
    "        self.add_vertex(vertex1)\n",
    "        self.add_vertex(vertex2)\n",
    "        self.adjList[vertex1].append(vertex2)\n",
    "        self.adjList[vertex2].append(vertex1) # For undirected graphs\n",
    "\n",
    "\n",
    "    def remove_vertex(self, vertex):\n",
    "        if vertex in self.adjList:\n",
    "            del self.adjList[vertex]\n",
    "            for v in self.adjList:\n",
    "                if vertex in self.adjList[v]:\n",
    "                    self.adjList[v].remove(vertex)\n",
    "\n",
    "    def remove_edge(self, vertex1, vertex2):\n",
    "        if vertex1 in self.adjList and vertex2 in self.adjList[vertex1]:\n",
    "            self.adjList[vertex1].remove(vertex2)\n",
    "        if vertex2 in self.adjList and vertex1 in self.adjList[vertex2]:\n",
    "            self.adjList[vertex2].remove(vertex1)\n",
    "\n",
    "\n",
    "    def __str__(self):\n",
    "        return str(self.adjList)"
   ]
  },
  {
   "cell_type": "code",
   "execution_count": 23,
   "metadata": {},
   "outputs": [
    {
     "name": "stdout",
     "output_type": "stream",
     "text": [
      "{1: [2, 3], 2: [1], 3: [1]}\n",
      "{1: [3], 3: [1]}\n",
      "{1: [3, 4], 3: [1], 4: [1]}\n"
     ]
    }
   ],
   "source": [
    "graph = Graph()\n",
    "graph.add_vertex(1)\n",
    "graph.add_vertex(2)\n",
    "graph.add_edge(1, 2)\n",
    "graph.add_vertex(3)\n",
    "graph.add_edge(1, 3)\n",
    "print(graph)  # Output: {1: [2, 3], 2: [1], 3: [1]}\n",
    "\n",
    "graph.remove_vertex(2)\n",
    "print(graph)  # Output: {1: [3], 3: [1]}\n",
    "\n",
    "graph.add_edge(1, 4)\n",
    "print(graph)  # Output: {1: [3, 4], 3: [1], 4: [1]}"
   ]
  },
  {
   "cell_type": "code",
   "execution_count": null,
   "metadata": {},
   "outputs": [],
   "source": [
    "'''\n",
    "Check if the element is present in the graph\n",
    "Graph Traversal\n",
    "Add elements(vertex, edges) to graph\n",
    "Finding the path from one vertex to another\n",
    "'''"
   ]
  },
  {
   "cell_type": "code",
   "execution_count": null,
   "metadata": {},
   "outputs": [],
   "source": [
    "'''\n",
    "Spaning tree\n",
    "is a sup-graph, it is one of possibilitie of a graph that all vertex are conntected\n",
    "the number of possiblities is n^(n-2)\n",
    "'''"
   ]
  }
 ],
 "metadata": {
  "kernelspec": {
   "display_name": "dataeng",
   "language": "python",
   "name": "python3"
  },
  "language_info": {
   "codemirror_mode": {
    "name": "ipython",
    "version": 3
   },
   "file_extension": ".py",
   "mimetype": "text/x-python",
   "name": "python",
   "nbconvert_exporter": "python",
   "pygments_lexer": "ipython3",
   "version": "3.9.16"
  }
 },
 "nbformat": 4,
 "nbformat_minor": 2
}
