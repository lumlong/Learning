{
 "cells": [
  {
   "cell_type": "code",
   "execution_count": 20,
   "metadata": {},
   "outputs": [],
   "source": [
    "class Node:\n",
    "    left = None\n",
    "    right = None\n",
    "    val = 0\n",
    "    \n",
    "    def __init__(self,val):\n",
    "        self.val = val"
   ]
  },
  {
   "cell_type": "code",
   "execution_count": 21,
   "metadata": {},
   "outputs": [],
   "source": [
    "def arrToBinaryTree(arr):\n",
    "    \n",
    "    q = []\n",
    "    \n",
    "    if not arr:\n",
    "        return None\n",
    "    \n",
    "    root = Node(arr[0])\n",
    "    q.append(root)\n",
    "    \n",
    "    i = 1\n",
    "    while i < len(arr):\n",
    "        curr = q.pop(0)\n",
    "        if i < len(arr):\n",
    "            curr.left = Node(arr[i])\n",
    "            q.append(curr.left)\n",
    "            i += 1\n",
    "        if i < len(arr):\n",
    "            curr.right = Node(arr[i])\n",
    "            q.append(curr.right)\n",
    "            i += 1\n",
    "    return root\n",
    "\n",
    "\n",
    "def printTree(root):\n",
    "    if not root:\n",
    "        return\n",
    "    printTree(root.left)\n",
    "    print(root.val, end=\" \")\n",
    "    printTree(root.right)"
   ]
  },
  {
   "cell_type": "code",
   "execution_count": 22,
   "metadata": {},
   "outputs": [
    {
     "name": "stdout",
     "output_type": "stream",
     "text": [
      "8 4 9 2 5 1 6 3 7 "
     ]
    }
   ],
   "source": [
    "'''\n",
    "            1\n",
    "           / \\\n",
    "        2       3\n",
    "       / \\     / \\\n",
    "      4   5   6   7\n",
    "     / \\\n",
    "    8   9\n",
    "'''\n",
    "\n",
    "numArray = [1,2,3,4,5,6,7,8,9]\n",
    "\n",
    "root = arrToBinaryTree(numArray)\n",
    "printTree(root)"
   ]
  },
  {
   "cell_type": "code",
   "execution_count": null,
   "metadata": {},
   "outputs": [],
   "source": [
    "def listToBinaryTree():\n",
    "    queue = []\n",
    "    root = None\n",
    "    head = None\n",
    "    parrent = None\n",
    "    left = None\n",
    "    right = None\n",
    "\n",
    "    for head in numArray:\n",
    "    root = Node[head]\n",
    "    queue.append(root)"
   ]
  },
  {
   "cell_type": "code",
   "execution_count": null,
   "metadata": {},
   "outputs": [],
   "source": [
    "numArray = [1,2,3,4,5,6,7,8,9]"
   ]
  }
 ],
 "metadata": {
  "kernelspec": {
   "display_name": "dataeng",
   "language": "python",
   "name": "python3"
  },
  "language_info": {
   "codemirror_mode": {
    "name": "ipython",
    "version": 3
   },
   "file_extension": ".py",
   "mimetype": "text/x-python",
   "name": "python",
   "nbconvert_exporter": "python",
   "pygments_lexer": "ipython3",
   "version": "3.9.16"
  }
 },
 "nbformat": 4,
 "nbformat_minor": 2
}
