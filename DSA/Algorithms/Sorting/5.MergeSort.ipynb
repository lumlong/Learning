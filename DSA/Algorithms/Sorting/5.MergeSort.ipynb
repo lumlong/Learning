{
 "cells": [
  {
   "cell_type": "code",
   "execution_count": 1,
   "metadata": {},
   "outputs": [],
   "source": [
    "# To sort a list by Insertion sort\n",
    "# Worst case cost O(n^2)\n",
    "# O(n) step for access, each n has O(n) for comapre and swap\n",
    "# [2,3,4,5,6,1] compare & swap 1,6;...;1,2 "
   ]
  },
  {
   "cell_type": "code",
   "execution_count": 2,
   "metadata": {},
   "outputs": [
    {
     "data": {
      "text/plain": [
       "'\\nPsudocode\\n\\nSplit array in half\\n\\n'"
      ]
     },
     "execution_count": 2,
     "metadata": {},
     "output_type": "execute_result"
    }
   ],
   "source": [
    "'''\n",
    "Psudocode\n",
    "\n",
    "Split array in half\n",
    "\n",
    "'''"
   ]
  },
  {
   "cell_type": "code",
   "execution_count": 3,
   "metadata": {},
   "outputs": [],
   "source": [
    "def merge_sort(arr, l, r):\n",
    "    # Base case when l >= r means it's broke down to a single number\n",
    "    if l >= r:\n",
    "        return\n",
    "    \n",
    "    # Find middle m\n",
    "    m = (l + r) // 2\n",
    "    # Split on left\n",
    "    merge_sort(arr, l, m)\n",
    "    # Split on right\n",
    "    merge_sort(arr, m+1, r)\n",
    "    # Merge\n",
    "    merge(arr, l ,m ,r)\n",
    "    \n",
    "\n",
    "def merge(arr, l, m, r):\n",
    "    # Find number of members by calculate from m-l+1, r-m index\n",
    "    nl = m - l + 1\n",
    "    nr = r - m\n",
    "    \n",
    "    # Initiate aux arrays\n",
    "    L = [0] * nl\n",
    "    R = [0] * nr\n",
    "    \n",
    "    # Copy val to aux arrays\n",
    "    for i in range(nl):\n",
    "        L[i] = arr[l + i]\n",
    "    for j in range(nr):\n",
    "        R[j] = arr[m+1+j]\n",
    "        \n",
    "    i = 0\n",
    "    j = 0\n",
    "    k = l\n",
    "\n",
    "    # You can do this only the sub problem already sorted!\n",
    "    # Sort by compare array in i and j step by step, \n",
    "    # this go thought each number 1 time using O(n), instead of naiveSort O(n^2) \n",
    "    while i < nl and j < nr:\n",
    "        if L[i] <= R[j]:\n",
    "            arr[k] = L[i]\n",
    "            i += 1\n",
    "        else:\n",
    "            arr[k] = R[j]\n",
    "            j += 1\n",
    "        k += 1\n",
    "        \n",
    "    while i < nl:\n",
    "        arr[k] = L[i]\n",
    "        i += 1\n",
    "        k += 1\n",
    "\n",
    "    while j < nr:\n",
    "        arr[k] = R[j]\n",
    "        j += 1\n",
    "        k += 1\n",
    "        \n",
    "        \n",
    "def print_list(arr):\n",
    "    for i in arr:\n",
    "        print(i + \" \")"
   ]
  },
  {
   "cell_type": "code",
   "execution_count": 5,
   "metadata": {},
   "outputs": [
    {
     "data": {
      "text/plain": [
       "[1, 3, 6, 7, 8, 9]"
      ]
     },
     "execution_count": 5,
     "metadata": {},
     "output_type": "execute_result"
    }
   ],
   "source": [
    "arr = [9,7,1,3,6,8]\n",
    "merge_sort(arr, 0, len(arr)-1)\n",
    "arr"
   ]
  },
  {
   "cell_type": "code",
   "execution_count": null,
   "metadata": {},
   "outputs": [],
   "source": []
  }
 ],
 "metadata": {
  "kernelspec": {
   "display_name": "dataeng",
   "language": "python",
   "name": "python3"
  },
  "language_info": {
   "codemirror_mode": {
    "name": "ipython",
    "version": 3
   },
   "file_extension": ".py",
   "mimetype": "text/x-python",
   "name": "python",
   "nbconvert_exporter": "python",
   "pygments_lexer": "ipython3",
   "version": "3.9.16"
  }
 },
 "nbformat": 4,
 "nbformat_minor": 2
}
