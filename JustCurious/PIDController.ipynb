{
 "cells": [
  {
   "cell_type": "code",
   "execution_count": null,
   "metadata": {},
   "outputs": [],
   "source": [
    "'''\n",
    "Stepper motor work by\n",
    "On controller level input only step and direction\n",
    "Controll(step, direction)\n",
    "\n",
    "On driver level it's send pulse signal to the magnetic coils\n",
    "\n",
    "Opened loop could miss step\n",
    "We add angular encoder to the driver and correct this making it closed loop\n",
    "\n",
    "on controller lever it use PID control to check the position and recalculates the control signa until the target is reached.\n",
    "'''"
   ]
  }
 ],
 "metadata": {
  "language_info": {
   "name": "python"
  }
 },
 "nbformat": 4,
 "nbformat_minor": 2
}
