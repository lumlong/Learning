{
 "cells": [
  {
   "cell_type": "code",
   "execution_count": null,
   "metadata": {},
   "outputs": [],
   "source": [
    "'''\n",
    "We have multiple stacks, hive like to store items\n",
    "Items has weight, height, depth, frequency_access, fragileness.\n",
    "Low height item could pop out in bulk if sum of height < x\n",
    "Heavy and fragile item has more access time both verticle and horizontal.\n",
    "We need to maximize storage, and minimize access time\n",
    "'''"
   ]
  },
  {
   "cell_type": "code",
   "execution_count": 22,
   "metadata": {},
   "outputs": [],
   "source": [
    "class Item:\n",
    "    \n",
    "    def __init__(self, w, d, h, freq) -> None:\n",
    "        self.w = w\n",
    "        self.d = d\n",
    "        self.h = h\n",
    "        self.freq = freq"
   ]
  },
  {
   "cell_type": "code",
   "execution_count": 39,
   "metadata": {},
   "outputs": [],
   "source": [
    "class Stack:\n",
    "    \n",
    "    stack = []\n",
    "    filled_h = 0\n",
    "    capacity_h = 0\n",
    "    \n",
    "    def __init__(self, capacity_h) -> None:\n",
    "        self.capacity_h = capacity_h\n",
    "        \n",
    "        \n",
    "    def is_item_fit(self, item: Item) -> bool:\n",
    "        return self.filled_h + item.h < self.capacity_h\n",
    "        \n",
    "        \n",
    "    def add(self, item: Item) -> None:\n",
    "        if self.is_fit(self, item):\n",
    "            self.stack.append(item)\n",
    "            self.filled_h += item.h\n",
    "    \n",
    "    \n",
    "    def remove(self, item: Item) -> Item:\n",
    "        item = self.stack.pop()\n",
    "        self.filled_h -= item.h\n",
    "        return item\n",
    "    \n",
    "    \n",
    "    def peek(self):\n",
    "        return self.stack[-1]\n",
    "    \n",
    "    def get_n_item(self):\n",
    "        return len(self.stack)\n",
    "    \n",
    "    def get_h_filled(self):\n",
    "        return self.filled_h"
   ]
  },
  {
   "cell_type": "code",
   "execution_count": 47,
   "metadata": {},
   "outputs": [],
   "source": [
    "class Hive:\n",
    "    \n",
    "    def __init__(self, w, d, stack_capacity) -> None:\n",
    "        self.hive = [[Stack(stack_capacity)] * w] * d\n",
    "        \n",
    "    def add():\n",
    "        # Calculate \n",
    "        pass"
   ]
  },
  {
   "cell_type": "code",
   "execution_count": 75,
   "metadata": {},
   "outputs": [
    {
     "data": {
      "text/plain": [
       "array([[ 1,  5, 22, 32,  3, 87, 12, 64, 51, 23],\n",
       "       [12, 69,  8, 24, 94, 43, 92, 88,  7,  1],\n",
       "       [78, 45, 60, 34, 51, 96, 96, 37, 70, 68],\n",
       "       [28, 15, 26,  4,  7, 12, 44, 76, 97, 32],\n",
       "       [67, 12, 57, 80, 58, 65,  1, 74, 17, 74]])"
      ]
     },
     "execution_count": 75,
     "metadata": {},
     "output_type": "execute_result"
    }
   ],
   "source": [
    "import numpy as np\n",
    "\n",
    "rand = np.random.RandomState(28)\n",
    "arr = rand.randint(0,99,[5,10])\n",
    "arr"
   ]
  },
  {
   "cell_type": "code",
   "execution_count": 108,
   "metadata": {},
   "outputs": [
    {
     "data": {
      "text/plain": [
       "array([[ 0,  0,  0, 32,  3, 87, 12, 64, 51, 23],\n",
       "       [ 0, 69,  8, 24, 94, 43, 92, 88,  7,  1],\n",
       "       [ 0, 45, 60, 34, 51, 96, 96, 37, 70, 68],\n",
       "       [ 0, 15, 26,  4,  7, 12, 44, 76, 97, 32],\n",
       "       [ 0, 12, 57, 80, 58, 65,  1, 74, 17, 74]])"
      ]
     },
     "execution_count": 108,
     "metadata": {},
     "output_type": "execute_result"
    }
   ],
   "source": [
    "arr[0,0:3] = 0\n",
    "arr[:,0] = 0\n",
    "arr.app"
   ]
  },
  {
   "cell_type": "code",
   "execution_count": null,
   "metadata": {},
   "outputs": [],
   "source": [
    "arr[], arr[] = arr[], arr[] "
   ]
  }
 ],
 "metadata": {
  "kernelspec": {
   "display_name": "dataeng",
   "language": "python",
   "name": "python3"
  },
  "language_info": {
   "codemirror_mode": {
    "name": "ipython",
    "version": 3
   },
   "file_extension": ".py",
   "mimetype": "text/x-python",
   "name": "python",
   "nbconvert_exporter": "python",
   "pygments_lexer": "ipython3",
   "version": "3.9.16"
  }
 },
 "nbformat": 4,
 "nbformat_minor": 2
}
