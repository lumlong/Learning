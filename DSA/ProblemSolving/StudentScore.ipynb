{
 "cells": [
  {
   "cell_type": "code",
   "execution_count": 30,
   "metadata": {},
   "outputs": [],
   "source": [
    "import sys"
   ]
  },
  {
   "cell_type": "code",
   "execution_count": 31,
   "metadata": {},
   "outputs": [],
   "source": [
    "def studentScore(numStudent, numTest):\n",
    "    '''\n",
    "    This method contain only average number information\n",
    "    Time = O(n)\n",
    "    Space = O(1)\n",
    "    '''\n",
    "    studentScr = [0] * numStudent\n",
    "    testScr = [0] * numTest\n",
    "    \n",
    "    for i in range(numStudent):\n",
    "        print(f'Enter student {i+1} score, for {numTest} tests')\n",
    "        for j in range(numTest):\n",
    "            x = int(input())\n",
    "            studentScr[i] += x\n",
    "            testScr[j] += x\n",
    "            \n",
    "    studentAvg = [x / numStudent for x in studentScr]\n",
    "    testAvg = [x / numTest for x in testScr]\n",
    "\n",
    "    for i,x in enumerate(studentAvg):\n",
    "        print(f'Student {i+1} avg.score is: {x}')\n",
    "        \n",
    "    for i,x in enumerate(testAvg):\n",
    "        print(f'Test {i+1} avg.score is: {x}')"
   ]
  },
  {
   "cell_type": "code",
   "execution_count": 32,
   "metadata": {},
   "outputs": [
    {
     "name": "stdout",
     "output_type": "stream",
     "text": [
      "Space: 936\n"
     ]
    }
   ],
   "source": [
    "studentScr = [0] * 100\n",
    "testScr = [0] * 3\n",
    "print(f'Space: {sys.getsizeof(studentScr) + sys.getsizeof(testScr)}')"
   ]
  },
  {
   "cell_type": "code",
   "execution_count": 33,
   "metadata": {},
   "outputs": [
    {
     "name": "stdout",
     "output_type": "stream",
     "text": [
      "Enter student 1 score, for 3 tests\n",
      "Enter student 2 score, for 3 tests\n",
      "Student 1 avg.score is: 3.0\n",
      "Student 2 avg.score is: 7.5\n",
      "Test 1 avg.score is: 1.6666666666666667\n",
      "Test 2 avg.score is: 2.3333333333333335\n",
      "Test 3 avg.score is: 3.0\n"
     ]
    }
   ],
   "source": [
    "numStudent = 2\n",
    "numTest = 3\n",
    "\n",
    "studentScore(numStudent, numTest)"
   ]
  },
  {
   "cell_type": "code",
   "execution_count": 34,
   "metadata": {},
   "outputs": [],
   "source": [
    "def studentScore(numStudent, numTest):\n",
    "    '''\n",
    "    This method contain all infomation\n",
    "    Time = O(n)\n",
    "    Space = O(n)\n",
    "    '''\n",
    "    # score = [[S1.T1, S1.T2, S1.T3], [S2.T1, S2.T2, S.3.T3], [1,2,3]]\n",
    "    score = [[0] * numTest] * numStudent\n",
    "\n",
    "    for i in range(numStudent):\n",
    "        print(f'Enter student {i+1} score, for {numTest} tests')\n",
    "        for j in range(numTest):\n",
    "            x = int(input())\n",
    "            score[i][j] = x\n",
    "            \n",
    "    for i in range(numStudent):\n",
    "        studentAvg = sum(score[i]) / numStudent\n",
    "        print(f'Student {i+1} avg.score is: {studentAvg}')\n",
    "    \n",
    "    for i in range(numStudent):\n",
    "        for j in range(numTest):\n",
    "            sumScore =+ score[i][j]\n",
    "            testAvg = sumScore / numTest\n",
    "            print(f'Test {i+1} avg.score is: {testAvg}')"
   ]
  },
  {
   "cell_type": "code",
   "execution_count": 35,
   "metadata": {},
   "outputs": [
    {
     "name": "stdout",
     "output_type": "stream",
     "text": [
      "Enter student 1 score, for 3 tests\n",
      "Enter student 2 score, for 3 tests\n",
      "Student 1 avg.score is: 7.5\n",
      "Student 2 avg.score is: 7.5\n",
      "Test 1 avg.score is: 1.3333333333333333\n",
      "Test 1 avg.score is: 1.6666666666666667\n",
      "Test 1 avg.score is: 2.0\n",
      "Test 2 avg.score is: 1.3333333333333333\n",
      "Test 2 avg.score is: 1.6666666666666667\n",
      "Test 2 avg.score is: 2.0\n"
     ]
    }
   ],
   "source": [
    "numStudent = 2\n",
    "numTest = 3\n",
    "\n",
    "studentScore(numStudent, numTest)"
   ]
  },
  {
   "cell_type": "code",
   "execution_count": 36,
   "metadata": {},
   "outputs": [
    {
     "name": "stdout",
     "output_type": "stream",
     "text": [
      "Space: 856\n"
     ]
    }
   ],
   "source": [
    "score = [[0] * 3] * 100\n",
    "print(f'Space: {sys.getsizeof(score)}')"
   ]
  },
  {
   "cell_type": "code",
   "execution_count": 2,
   "metadata": {},
   "outputs": [],
   "source": [
    "a = [[0] * 5] * 10"
   ]
  },
  {
   "cell_type": "code",
   "execution_count": 3,
   "metadata": {},
   "outputs": [],
   "source": [
    "a[4][4] = 5"
   ]
  },
  {
   "cell_type": "code",
   "execution_count": 4,
   "metadata": {},
   "outputs": [
    {
     "data": {
      "text/plain": [
       "[[0, 0, 0, 0, 5],\n",
       " [0, 0, 0, 0, 5],\n",
       " [0, 0, 0, 0, 5],\n",
       " [0, 0, 0, 0, 5],\n",
       " [0, 0, 0, 0, 5],\n",
       " [0, 0, 0, 0, 5],\n",
       " [0, 0, 0, 0, 5],\n",
       " [0, 0, 0, 0, 5],\n",
       " [0, 0, 0, 0, 5],\n",
       " [0, 0, 0, 0, 5]]"
      ]
     },
     "execution_count": 4,
     "metadata": {},
     "output_type": "execute_result"
    }
   ],
   "source": [
    "a = []"
   ]
  }
 ],
 "metadata": {
  "kernelspec": {
   "display_name": "dataeng",
   "language": "python",
   "name": "python3"
  },
  "language_info": {
   "codemirror_mode": {
    "name": "ipython",
    "version": 3
   },
   "file_extension": ".py",
   "mimetype": "text/x-python",
   "name": "python",
   "nbconvert_exporter": "python",
   "pygments_lexer": "ipython3",
   "version": "3.9.16"
  }
 },
 "nbformat": 4,
 "nbformat_minor": 2
}
