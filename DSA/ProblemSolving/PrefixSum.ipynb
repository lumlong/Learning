{
 "cells": [
  {
   "cell_type": "code",
   "execution_count": 50,
   "metadata": {},
   "outputs": [],
   "source": [
    "def prefixSum(arr, start, end):\n",
    "    # If \n",
    "    # For i > 0 : sum with i-1, so that i-1 contains sum from i=0 to i-1 (O(n)) \n",
    "    for i in range(1, len(arr)):\n",
    "        arr[i] = arr[i] + arr[i-1]\n",
    "        \n",
    "    if start == 0:\n",
    "        return arr[end]\n",
    "    # start-1 so [start,end] instead of (start,end]\n",
    "    return arr[end] - arr[start-1]"
   ]
  },
  {
   "cell_type": "code",
   "execution_count": 51,
   "metadata": {},
   "outputs": [
    {
     "data": {
      "text/plain": [
       "18"
      ]
     },
     "execution_count": 51,
     "metadata": {},
     "output_type": "execute_result"
    }
   ],
   "source": [
    "arr = [1,2,3,4,5,6]\n",
    "\n",
    "prefixSum(arr, 2,5)"
   ]
  }
 ],
 "metadata": {
  "kernelspec": {
   "display_name": "dataeng",
   "language": "python",
   "name": "python3"
  },
  "language_info": {
   "codemirror_mode": {
    "name": "ipython",
    "version": 3
   },
   "file_extension": ".py",
   "mimetype": "text/x-python",
   "name": "python",
   "nbconvert_exporter": "python",
   "pygments_lexer": "ipython3",
   "version": "3.9.16"
  }
 },
 "nbformat": 4,
 "nbformat_minor": 2
}
