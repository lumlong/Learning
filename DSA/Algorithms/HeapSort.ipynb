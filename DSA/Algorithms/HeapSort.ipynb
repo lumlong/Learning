{
 "cells": [
  {
   "cell_type": "code",
   "execution_count": 119,
   "metadata": {},
   "outputs": [],
   "source": [
    "import time\n",
    "\n",
    "def get_runtime(func, *args):\n",
    "    runtimes = []\n",
    "    \n",
    "    for _ in range(1000):\n",
    "        start = time.time()\n",
    "        func(args)\n",
    "        stop = time.time()\n",
    "        \n",
    "    runtimes.append(stop - start)\n",
    "    \n",
    "    avg_runtime = sum(runtimes) / len(runtimes)\n",
    "    print(f'Average runtime = ' + '{:.2f}'.format(avg_runtime * 1000000))"
   ]
  },
  {
   "cell_type": "code",
   "execution_count": 110,
   "metadata": {},
   "outputs": [],
   "source": [
    "def heapify(arr, i):\n",
    "    n = len(arr)\n",
    "    largest = i\n",
    "    l = 2 * i + 1\n",
    "    r = 2 * i + 2\n",
    "    \n",
    "    # Find largest between current parent i and 2 childs\n",
    "    if l < n and arr[l] > arr[i]:\n",
    "        largest = l\n",
    "        \n",
    "    if r < n and arr[r] > arr[i]:\n",
    "        largest = r\n",
    "    \n",
    "    # If current parent i is not largest, swap with largest and continue heapifying\n",
    "    if i != largest:\n",
    "        arr[i], arr[largest] = arr[largest], arr[i]\n",
    "        heapify(arr, largest)"
   ]
  },
  {
   "cell_type": "code",
   "execution_count": 111,
   "metadata": {},
   "outputs": [],
   "source": [
    "def heapSort(arr):\n",
    "    n = len(arr)\n",
    "    \n",
    "    # Build max heap\n",
    "    # Iterative backward from last parrent index to an index before the root\n",
    "    # If iterative forward = redudant work\n",
    "    for i in range(n//2, -1, -1):\n",
    "        heapify(arr, i)"
   ]
  },
  {
   "cell_type": "code",
   "execution_count": 113,
   "metadata": {},
   "outputs": [
    {
     "data": {
      "text/plain": [
       "[9, 8, 7, 4, 3, 2]"
      ]
     },
     "execution_count": 113,
     "metadata": {},
     "output_type": "execute_result"
    }
   ],
   "source": [
    "arr = [7,4,2,8,3,9]\n",
    "heapSort(arr)\n",
    "arr # [9, 8, 7, 4, 3, 2] Correct!"
   ]
  },
  {
   "cell_type": "code",
   "execution_count": 120,
   "metadata": {},
   "outputs": [
    {
     "name": "stdout",
     "output_type": "stream",
     "text": [
      "Average runtime = 1.19\n"
     ]
    }
   ],
   "source": [
    "get_runtime(heapSort, arr)"
   ]
  },
  {
   "cell_type": "code",
   "execution_count": null,
   "metadata": {},
   "outputs": [],
   "source": []
  }
 ],
 "metadata": {
  "kernelspec": {
   "display_name": "dataeng",
   "language": "python",
   "name": "python3"
  },
  "language_info": {
   "codemirror_mode": {
    "name": "ipython",
    "version": 3
   },
   "file_extension": ".py",
   "mimetype": "text/x-python",
   "name": "python",
   "nbconvert_exporter": "python",
   "pygments_lexer": "ipython3",
   "version": "3.9.16"
  }
 },
 "nbformat": 4,
 "nbformat_minor": 2
}
