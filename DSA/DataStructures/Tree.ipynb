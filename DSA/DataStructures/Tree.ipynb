{
 "cells": [
  {
   "cell_type": "code",
   "execution_count": 2,
   "metadata": {},
   "outputs": [],
   "source": [
    "class Node:\n",
    "    left = None\n",
    "    right = None\n",
    "    val = 0\n",
    "    \n",
    "    def __init__(self,val):\n",
    "        self.val = val"
   ]
  },
  {
   "cell_type": "code",
   "execution_count": 3,
   "metadata": {},
   "outputs": [],
   "source": [
    "def arrToBinaryTree(numArray):\n",
    "    \n",
    "    q = []\n",
    "    if not numArray:\n",
    "        return None\n",
    "    root = Node(numArray[0])\n",
    "    q.append(root)\n",
    "    i = 1\n",
    "    while i < len(numArray):\n",
    "        curr = q.pop(0)\n",
    "        if i < len(numArray):\n",
    "            curr.left = Node(numArray[i])\n",
    "            q.append(curr.left)\n",
    "            i += 1\n",
    "        if i < len(numArray):\n",
    "            curr.right = Node(numArray[i])\n",
    "            q.append(curr.right)\n",
    "            i += 1\n",
    "    return root\n",
    "\n",
    "\n",
    "def printTree(root):\n",
    "    if not root:\n",
    "        return\n",
    "    printTree(root.left)\n",
    "    print(root.val, end=\" \")\n",
    "    printTree(root.right)"
   ]
  },
  {
   "cell_type": "code",
   "execution_count": 6,
   "metadata": {},
   "outputs": [],
   "source": [
    "numArray = [1,2,3,4,5,6,7,8,9]\n",
    "\n",
    "root = arrToBinaryTree(numArray)"
   ]
  },
  {
   "cell_type": "code",
   "execution_count": 8,
   "metadata": {},
   "outputs": [
    {
     "name": "stdout",
     "output_type": "stream",
     "text": [
      "8 4 9 2 5 1 6 3 7 "
     ]
    }
   ],
   "source": [
    "printTree(root)"
   ]
  },
  {
   "cell_type": "code",
   "execution_count": null,
   "metadata": {},
   "outputs": [],
   "source": [
    "def listToBinaryTree():\n",
    "    queue = []\n",
    "    root = None\n",
    "    head = None\n",
    "    parrent = None\n",
    "    left = None\n",
    "    right = None\n",
    "\n",
    "    for head in numArray:\n",
    "    root = Node[head]\n",
    "    queue.append(root)"
   ]
  },
  {
   "cell_type": "code",
   "execution_count": null,
   "metadata": {},
   "outputs": [],
   "source": [
    "numArray = [1,2,3,4,5,6,7,8,9]"
   ]
  }
 ],
 "metadata": {
  "kernelspec": {
   "display_name": "dataeng",
   "language": "python",
   "name": "python3"
  },
  "language_info": {
   "codemirror_mode": {
    "name": "ipython",
    "version": 3
   },
   "file_extension": ".py",
   "mimetype": "text/x-python",
   "name": "python",
   "nbconvert_exporter": "python",
   "pygments_lexer": "ipython3",
   "version": "3.9.16"
  }
 },
 "nbformat": 4,
 "nbformat_minor": 2
}
