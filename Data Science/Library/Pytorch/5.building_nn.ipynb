{
 "cells": [
  {
   "cell_type": "markdown",
   "metadata": {},
   "source": [
    "# Build the Neural Network"
   ]
  },
  {
   "cell_type": "code",
   "execution_count": 6,
   "metadata": {},
   "outputs": [],
   "source": [
    "import os\n",
    "import torch\n",
    "from torch import nn\n",
    "from torch.utils.data import DataLoader\n",
    "from torchvision import datasets, transforms"
   ]
  },
  {
   "cell_type": "markdown",
   "metadata": {},
   "source": [
    "# Get Device for Training"
   ]
  },
  {
   "cell_type": "code",
   "execution_count": 7,
   "metadata": {},
   "outputs": [
    {
     "name": "stdout",
     "output_type": "stream",
     "text": [
      "Using mps device\n"
     ]
    }
   ],
   "source": [
    "# if available, we want to be able to train our model on a hardware accelerator like the GPU or MPS.\n",
    "device = (\n",
    "    \"cuda\"\n",
    "    if torch.cuda.is_available()\n",
    "    else \"mps\"\n",
    "    if torch.backends.mps.is_available()\n",
    "    else \"cpu\"\n",
    ")\n",
    "print(f\"Using {device} device\")"
   ]
  },
  {
   "cell_type": "markdown",
   "metadata": {},
   "source": [
    "# Define the Class"
   ]
  },
  {
   "cell_type": "code",
   "execution_count": 8,
   "metadata": {},
   "outputs": [],
   "source": [
    "# define neural network by subclassing nn.Module\n",
    "# Base class for all neural network modules\n",
    "class NeuralNetwork(nn.Module):\n",
    "    def __init__(self):\n",
    "        # Initialize internal Module state, shared by both nn.Module and ScriptModule.\n",
    "        super().__init__()\n",
    "        \n",
    "        # This is Model Layers\n",
    "        # convert each 2D 28x28 image into a contiguous array of 784 pixel values\n",
    "        self.flatten = nn.Flatten()\n",
    "        self.linear_relu_stack = nn.Sequential(\n",
    "            # applies a linear transformation on the input using its stored weights and biases.\n",
    "            nn.Linear(28*28, 512),\n",
    "            # Non-linear activations\n",
    "            nn.ReLU(),\n",
    "            nn.Linear(512, 512),\n",
    "            nn.ReLU(),\n",
    "            nn.Linear(512, 10),\n",
    "        )\n",
    "\n",
    "    # Every nn.Module subclass implements the operations on input data in the forward method.\n",
    "    def forward(self, x):\n",
    "        x = self.flatten(x)\n",
    "        logits = self.linear_relu_stack(x)\n",
    "        return logits"
   ]
  },
  {
   "cell_type": "code",
   "execution_count": 9,
   "metadata": {},
   "outputs": [
    {
     "name": "stdout",
     "output_type": "stream",
     "text": [
      "NeuralNetwork(\n",
      "  (flatten): Flatten(start_dim=1, end_dim=-1)\n",
      "  (linear_relu_stack): Sequential(\n",
      "    (0): Linear(in_features=784, out_features=512, bias=True)\n",
      "    (1): ReLU()\n",
      "    (2): Linear(in_features=512, out_features=512, bias=True)\n",
      "    (3): ReLU()\n",
      "    (4): Linear(in_features=512, out_features=10, bias=True)\n",
      "  )\n",
      ")\n"
     ]
    }
   ],
   "source": [
    "# create an instance of NeuralNetwork, and move it to the device, and print its structure.\n",
    "model = NeuralNetwork().to(device)\n",
    "print(model)"
   ]
  },
  {
   "cell_type": "code",
   "execution_count": 10,
   "metadata": {},
   "outputs": [
    {
     "name": "stdout",
     "output_type": "stream",
     "text": [
      "Predicted class: tensor([2], device='mps:0')\n"
     ]
    }
   ],
   "source": [
    "X = torch.rand(1, 28, 28, device=device)\n",
    "logits = model(X)\n",
    "pred_probab = nn.Softmax(dim=1)(logits)\n",
    "y_pred = pred_probab.argmax(1)\n",
    "print(f\"Predicted class: {y_pred}\")"
   ]
  },
  {
   "cell_type": "markdown",
   "metadata": {},
   "source": [
    "# Model Layers"
   ]
  },
  {
   "cell_type": "code",
   "execution_count": 11,
   "metadata": {},
   "outputs": [
    {
     "name": "stdout",
     "output_type": "stream",
     "text": [
      "torch.Size([3, 28, 28])\n",
      "torch.Size([3, 784])\n",
      "torch.Size([3, 20])\n",
      "Before ReLU: tensor([[ 0.2215, -0.2454, -0.6104, -0.6091, -0.4696,  0.1986, -0.2132, -0.1406,\n",
      "         -0.4442,  0.3264,  0.0574,  0.1953,  0.3970, -0.1245,  0.0137, -0.4407,\n",
      "         -0.1408,  0.3928, -0.0332,  0.1689],\n",
      "        [ 0.5270, -0.0647, -0.4156, -0.3075, -0.5541, -0.0771,  0.2963, -0.1519,\n",
      "         -0.0755,  0.3072, -0.3078,  0.1890,  0.0574, -0.0091, -0.1008, -0.1593,\n",
      "         -0.1094,  0.4573, -0.2499,  0.3267],\n",
      "        [ 0.1373,  0.1955,  0.0792, -0.2364, -0.4897,  0.1398,  0.2699, -0.0929,\n",
      "         -0.1908,  0.2720, -0.2013,  0.2885,  0.5414, -0.0558, -0.5844,  0.0958,\n",
      "          0.2053,  0.3202,  0.0922,  0.4062]], grad_fn=<AddmmBackward0>)\n",
      "\n",
      "\n",
      "After ReLU: tensor([[0.2215, 0.0000, 0.0000, 0.0000, 0.0000, 0.1986, 0.0000, 0.0000, 0.0000,\n",
      "         0.3264, 0.0574, 0.1953, 0.3970, 0.0000, 0.0137, 0.0000, 0.0000, 0.3928,\n",
      "         0.0000, 0.1689],\n",
      "        [0.5270, 0.0000, 0.0000, 0.0000, 0.0000, 0.0000, 0.2963, 0.0000, 0.0000,\n",
      "         0.3072, 0.0000, 0.1890, 0.0574, 0.0000, 0.0000, 0.0000, 0.0000, 0.4573,\n",
      "         0.0000, 0.3267],\n",
      "        [0.1373, 0.1955, 0.0792, 0.0000, 0.0000, 0.1398, 0.2699, 0.0000, 0.0000,\n",
      "         0.2720, 0.0000, 0.2885, 0.5414, 0.0000, 0.0000, 0.0958, 0.2053, 0.3202,\n",
      "         0.0922, 0.4062]], grad_fn=<ReluBackward0>)\n"
     ]
    }
   ],
   "source": [
    "input_image = torch.rand(3,28,28)\n",
    "print(input_image.size())\n",
    "\n",
    "\n",
    "# nn.Flatten\n",
    "flatten = nn.Flatten()\n",
    "flat_image = flatten(input_image)\n",
    "print(flat_image.size())\n",
    "\n",
    "\n",
    "# nn.Linear\n",
    "layer1 = nn.Linear(in_features=28*28, out_features=20)\n",
    "hidden1 = layer1(flat_image)\n",
    "print(hidden1.size())\n",
    "\n",
    "\n",
    "# nn.ReLU\n",
    "print(f\"Before ReLU: {hidden1}\\n\\n\")\n",
    "hidden1 = nn.ReLU()(hidden1)\n",
    "print(f\"After ReLU: {hidden1}\")\n",
    "\n",
    "\n",
    "nn.Sequential\n",
    "seq_modules = nn.Sequential(\n",
    "    flatten,\n",
    "    layer1,\n",
    "    nn.ReLU(),\n",
    "    nn.Linear(20, 10)\n",
    ")\n",
    "input_image = torch.rand(3,28,28)\n",
    "logits = seq_modules(input_image)\n",
    "\n",
    "\n",
    "# nn.Softmax\n",
    "softmax = nn.Softmax(dim=1)\n",
    "pred_probab = softmax(logits)"
   ]
  },
  {
   "cell_type": "markdown",
   "metadata": {},
   "source": [
    "# Model Parameters"
   ]
  },
  {
   "cell_type": "code",
   "execution_count": 12,
   "metadata": {},
   "outputs": [
    {
     "name": "stdout",
     "output_type": "stream",
     "text": [
      "Model structure: NeuralNetwork(\n",
      "  (flatten): Flatten(start_dim=1, end_dim=-1)\n",
      "  (linear_relu_stack): Sequential(\n",
      "    (0): Linear(in_features=784, out_features=512, bias=True)\n",
      "    (1): ReLU()\n",
      "    (2): Linear(in_features=512, out_features=512, bias=True)\n",
      "    (3): ReLU()\n",
      "    (4): Linear(in_features=512, out_features=10, bias=True)\n",
      "  )\n",
      ")\n",
      "\n",
      "\n",
      "Layer: linear_relu_stack.0.weight | Size: torch.Size([512, 784]) | Values : tensor([[ 0.0137, -0.0312, -0.0052,  ..., -0.0096, -0.0019, -0.0123],\n",
      "        [-0.0301, -0.0251, -0.0212,  ...,  0.0015,  0.0336,  0.0244]],\n",
      "       device='mps:0', grad_fn=<SliceBackward0>) \n",
      "\n",
      "Layer: linear_relu_stack.0.bias | Size: torch.Size([512]) | Values : tensor([-0.0323, -0.0166], device='mps:0', grad_fn=<SliceBackward0>) \n",
      "\n",
      "Layer: linear_relu_stack.2.weight | Size: torch.Size([512, 512]) | Values : tensor([[ 0.0142, -0.0215,  0.0148,  ..., -0.0084, -0.0408, -0.0015],\n",
      "        [ 0.0023,  0.0157,  0.0129,  ...,  0.0236,  0.0340,  0.0190]],\n",
      "       device='mps:0', grad_fn=<SliceBackward0>) \n",
      "\n",
      "Layer: linear_relu_stack.2.bias | Size: torch.Size([512]) | Values : tensor([ 0.0414, -0.0372], device='mps:0', grad_fn=<SliceBackward0>) \n",
      "\n",
      "Layer: linear_relu_stack.4.weight | Size: torch.Size([10, 512]) | Values : tensor([[-0.0318,  0.0224,  0.0169,  ..., -0.0274,  0.0100,  0.0328],\n",
      "        [ 0.0151,  0.0327,  0.0428,  ..., -0.0386,  0.0326, -0.0009]],\n",
      "       device='mps:0', grad_fn=<SliceBackward0>) \n",
      "\n",
      "Layer: linear_relu_stack.4.bias | Size: torch.Size([10]) | Values : tensor([-0.0310,  0.0160], device='mps:0', grad_fn=<SliceBackward0>) \n",
      "\n"
     ]
    }
   ],
   "source": [
    "print(f\"Model structure: {model}\\n\\n\")\n",
    "\n",
    "for name, param in model.named_parameters():\n",
    "    print(f\"Layer: {name} | Size: {param.size()} | Values : {param[:2]} \\n\")"
   ]
  }
 ],
 "metadata": {
  "kernelspec": {
   "display_name": "mlenv",
   "language": "python",
   "name": "python3"
  },
  "language_info": {
   "codemirror_mode": {
    "name": "ipython",
    "version": 3
   },
   "file_extension": ".py",
   "mimetype": "text/x-python",
   "name": "python",
   "nbconvert_exporter": "python",
   "pygments_lexer": "ipython3",
   "version": "3.12.7"
  }
 },
 "nbformat": 4,
 "nbformat_minor": 2
}
