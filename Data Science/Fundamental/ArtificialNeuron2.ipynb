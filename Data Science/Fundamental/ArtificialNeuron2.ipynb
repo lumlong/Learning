{
 "cells": [
  {
   "cell_type": "code",
   "execution_count": 37,
   "metadata": {},
   "outputs": [],
   "source": [
    "from sklearn.datasets import load_digits\n",
    "import numpy as np\n",
    "\n",
    "digits = load_digits(n_class=6)\n",
    "X, y = digits.data, digits.target\n",
    "\n",
    "n_samples, n_features = X.shape\n",
    "n_classes = len(np.unique(y))"
   ]
  },
  {
   "cell_type": "code",
   "execution_count": 38,
   "metadata": {},
   "outputs": [
    {
     "data": {
      "image/png": "[encoded data removed]",
      "text/plain": [
       "<Figure size 600x600 with 100 Axes>"
      ]
     },
     "metadata": {},
     "output_type": "display_data"
    }
   ],
   "source": [
    "import matplotlib.pyplot as plt\n",
    "\n",
    "fig, axs = plt.subplots(nrows=10, ncols=10, figsize=(6, 6))\n",
    "for idx, ax in enumerate(axs.ravel()):\n",
    "    ax.imshow(X[idx].reshape((8, 8)), cmap=plt.cm.binary)\n",
    "    ax.axis(\"off\")\n",
    "_ = fig.show"
   ]
  },
  {
   "cell_type": "markdown",
   "metadata": {},
   "source": [
    "## Single class implement"
   ]
  },
  {
   "cell_type": "code",
   "execution_count": 104,
   "metadata": {},
   "outputs": [],
   "source": [
    "def net_input(X, weight, bias):\n",
    "    return X.dot(weight.T) + bias\n",
    "\n",
    "\n",
    "def sigmoid(net_input):\n",
    "    return 1 / (1 + np.exp(-net_input))\n",
    "\n",
    "\n",
    "def logloss(y_predict, y_target):\n",
    "    logloss = -np.mean( y_target * np.log(y_predict) + (1 - y_target) * np.log(1 - y_predict) )\n",
    "    return logloss\n",
    "\n",
    "\n",
    "def fit(X, y, iter, learning_rate):\n",
    "    \n",
    "    w_list = []\n",
    "    b_list = []\n",
    "    \n",
    "    n_samples, n_features = X.shape\n",
    "    n_classes = len(np.unique(y))\n",
    "    \n",
    "    y_onehot = get_onehot(y)\n",
    "\n",
    "    w = np.random.uniform(0, .1, [n_classes, n_features])\n",
    "    b = np.random.uniform(0, .1, [n_classes])\n",
    "\n",
    "    for i in range(iter):\n",
    "        \n",
    "        y_predict = predict(X, w, b)\n",
    "        loss = logloss(y_predict, y_onehot)\n",
    "        print(f'Iter: {i}, Loss: {loss}')\n",
    "        \n",
    "        error = y_predict - y_onehot\n",
    "\n",
    "        w -= learning_rate * X.T.dot(error).T   # [features, samples] dot [samples, classes] = [features, classes]\n",
    "        b -= learning_rate * np.average(error, axis=0)\n",
    "        \n",
    "        w_list.append(w)\n",
    "        b_list.append(b)\n",
    "\n",
    "    return w_list, b_list\n",
    "    \n",
    "\n",
    "def predict(X, w, b):\n",
    "    \n",
    "    z = net_input(X, w, b)\n",
    "    y_predict = sigmoid(z)\n",
    "    \n",
    "    return y_predict\n",
    "\n",
    "\n",
    "# Aux function\n",
    "def get_onehot(y):\n",
    "    n_classes = len(np.unique(y))\n",
    "    n_samples = len(y)\n",
    "    \n",
    "    y_onehot = np.zeros([n_samples, n_classes])\n",
    "    for i, val in enumerate(y):\n",
    "        y_onehot[i, val] = 1\n",
    "    return y_onehot\n",
    "\n",
    "\n",
    "def onehot_to_label(y_onehot):\n",
    "    y_pred = []\n",
    "    \n",
    "    for row in y_onehot:\n",
    "        for i, col in enumerate(row):\n",
    "            if col == 1:\n",
    "                y_pred.append(i)\n",
    "    return y_pred\n",
    "\n",
    "\n",
    "def to_classlabel(z):\n",
    "    return z.argmax(axis = 1)"
   ]
  },
  {
   "cell_type": "code",
   "execution_count": 105,
   "metadata": {},
   "outputs": [
    {
     "name": "stdout",
     "output_type": "stream",
     "text": [
      "Iter: 0, Loss: 12.31555663625587\n",
      "Iter: 1, Loss: 1.4142348280756973\n",
      "Iter: 2, Loss: 0.5526707577521576\n",
      "Iter: 3, Loss: 0.33986205087070037\n",
      "Iter: 4, Loss: 0.45770601090390517\n",
      "Iter: 5, Loss: 0.2702372447351822\n",
      "Iter: 6, Loss: 0.3458820925310423\n",
      "Iter: 7, Loss: 0.21835970258078144\n",
      "Iter: 8, Loss: 0.25896877215769293\n",
      "Iter: 9, Loss: 0.16560714723263886\n",
      "Iter: 10, Loss: 0.17119045149770595\n",
      "Iter: 11, Loss: 0.14312672077138736\n",
      "Iter: 12, Loss: 0.14336850821731048\n",
      "Iter: 13, Loss: 0.12426421804882075\n",
      "Iter: 14, Loss: 0.12092301746533536\n",
      "Iter: 15, Loss: 0.11034472833834673\n",
      "Iter: 16, Loss: 0.1063621648180092\n",
      "Iter: 17, Loss: 0.10057593355736254\n",
      "Iter: 18, Loss: 0.0972305935910661\n",
      "Iter: 19, Loss: 0.09378857274224404\n",
      "Iter: 20, Loss: 0.09122438661194109\n",
      "Iter: 21, Loss: 0.0888712150070177\n",
      "Iter: 22, Loss: 0.08686013508915143\n",
      "Iter: 23, Loss: 0.08502482107458811\n",
      "Iter: 24, Loss: 0.0833520239955247\n",
      "Iter: 25, Loss: 0.08179598532234462\n",
      "Iter: 26, Loss: 0.08033901322238288\n",
      "Iter: 27, Loss: 0.07896513740324872\n",
      "Iter: 28, Loss: 0.07766442053430424\n",
      "Iter: 29, Loss: 0.07642919103402997\n",
      "Iter: 30, Loss: 0.07525348945405329\n",
      "Iter: 31, Loss: 0.07413237731069322\n",
      "Iter: 32, Loss: 0.07306160573846926\n",
      "Iter: 33, Loss: 0.07203744396353445\n",
      "Iter: 34, Loss: 0.07105656218078636\n",
      "Iter: 35, Loss: 0.070115968667582\n",
      "Iter: 36, Loss: 0.06921295849108357\n",
      "Iter: 37, Loss: 0.06834507786424972\n",
      "Iter: 38, Loss: 0.06751009322174972\n",
      "Iter: 39, Loss: 0.06670596619989974\n",
      "Iter: 40, Loss: 0.06593083180249744\n",
      "Iter: 41, Loss: 0.06518297976442579\n",
      "Iter: 42, Loss: 0.06446083827108355\n",
      "Iter: 43, Loss: 0.06376295979124562\n",
      "Iter: 44, Loss: 0.06308800864628415\n",
      "Iter: 45, Loss: 0.06243475008679562\n",
      "Iter: 46, Loss: 0.06180204065279002\n",
      "Iter: 47, Loss: 0.06118881964437591\n",
      "Iter: 48, Loss: 0.060594101551745355\n",
      "Iter: 49, Loss: 0.060016969318899153\n"
     ]
    }
   ],
   "source": [
    "# Single class\n",
    "w_list, b_list = fit(X, y, 50, 0.00001)"
   ]
  },
  {
   "cell_type": "code",
   "execution_count": 109,
   "metadata": {},
   "outputs": [
    {
     "data": {
      "image/png": "[encoded data removed]",
      "text/plain": [
       "<Figure size 600x600 with 6 Axes>"
      ]
     },
     "metadata": {},
     "output_type": "display_data"
    }
   ],
   "source": [
    "# Explainable\n",
    "fig, axs = plt.subplots(nrows=1, ncols=n_classes, figsize=(6, 6))\n",
    "\n",
    "for idx, ax in enumerate(axs.ravel()):\n",
    "    ax.imshow(w_list[0][idx].reshape((8, 8)), cmap=plt.cm.binary)\n",
    "    ax.axis(\"off\")\n",
    "_ = fig.show"
   ]
  },
  {
   "cell_type": "code",
   "execution_count": 110,
   "metadata": {},
   "outputs": [
    {
     "data": {
      "image/png": "[encoded data removed]",
      "text/plain": [
       "<Figure size 600x600 with 6 Axes>"
      ]
     },
     "metadata": {},
     "output_type": "display_data"
    }
   ],
   "source": [
    "# Explainable\n",
    "fig, axs = plt.subplots(nrows=1, ncols=n_classes, figsize=(6, 6))\n",
    "\n",
    "for idx, ax in enumerate(axs.ravel()):\n",
    "    ax.imshow(w_list[49][idx].reshape((8, 8)), cmap=plt.cm.binary)\n",
    "    ax.axis(\"off\")\n",
    "_ = fig.show"
   ]
  },
  {
   "cell_type": "markdown",
   "metadata": {},
   "source": [
    "$ \\hat{y} = w * x $\n",
    "\n",
    "$ L(\\hat{y}, y) = \\frac{1}{m} \\sum(\\hat{y} - y)^2 $\n",
    "\n",
    "$ [f(g(x))]' = f'(g(x)) * g(x)' $"
   ]
  },
  {
   "cell_type": "code",
   "execution_count": 281,
   "metadata": {},
   "outputs": [],
   "source": [
    "y_onehot = get_onehot(y)\n",
    "weight = np.random.uniform(0, .01, [n_classes, n_features])\n",
    "bias = np.random.uniform(0, .01, [n_classes])"
   ]
  },
  {
   "cell_type": "code",
   "execution_count": 282,
   "metadata": {},
   "outputs": [
    {
     "name": "stdout",
     "output_type": "stream",
     "text": [
      "0.6622899350695443\n",
      "-0.16666666666666666\n",
      "-0.16666666666666666\n",
      "-0.16666666666666666\n",
      "-0.13665743305632502\n"
     ]
    },
    {
     "name": "stderr",
     "output_type": "stream",
     "text": [
      "/var/folders/3t/xfpgj4cx36x99cwhqh55n25w0000gp/T/ipykernel_19501/3803820047.py:6: RuntimeWarning: overflow encountered in exp\n",
      "  return 1 / (1 + np.exp(-net_input))\n"
     ]
    }
   ],
   "source": [
    "iter = 5\n",
    "for i in range(0, iter):\n",
    "    new_weight, new_bias = loss(X, activation(net_input(X, weight, bias)), y_onehot)\n",
    "    weight = weight - new_weight\n",
    "    bias = bias - new_bias"
   ]
  },
  {
   "cell_type": "code",
   "execution_count": 283,
   "metadata": {},
   "outputs": [
    {
     "data": {
      "image/png": "[encoded data removed]",
      "text/plain": [
       "<Figure size 600x600 with 6 Axes>"
      ]
     },
     "metadata": {},
     "output_type": "display_data"
    }
   ],
   "source": [
    "# Explainable\n",
    "fig, axs = plt.subplots(nrows=1, ncols=n_classes, figsize=(6, 6))\n",
    "\n",
    "for idx, ax in enumerate(axs.ravel()):\n",
    "    ax.imshow(weight[idx].reshape((8, 8)), cmap=plt.cm.binary)\n",
    "    ax.axis(\"off\")\n",
    "_ = fig.show"
   ]
  },
  {
   "cell_type": "code",
   "execution_count": 284,
   "metadata": {},
   "outputs": [
    {
     "name": "stderr",
     "output_type": "stream",
     "text": [
      "/var/folders/3t/xfpgj4cx36x99cwhqh55n25w0000gp/T/ipykernel_19501/3803820047.py:6: RuntimeWarning: overflow encountered in exp\n",
      "  return 1 / (1 + np.exp(-net_input))\n"
     ]
    },
    {
     "data": {
      "text/plain": [
       "array([[1., 0., 0., 0., 0., 1.],\n",
       "       [0., 1., 0., 0., 0., 0.],\n",
       "       [0., 1., 1., 0., 0., 0.],\n",
       "       ...,\n",
       "       [0., 1., 0., 0., 1., 0.],\n",
       "       [0., 1., 0., 0., 1., 0.],\n",
       "       [1., 0., 0., 0., 0., 1.]])"
      ]
     },
     "execution_count": 284,
     "metadata": {},
     "output_type": "execute_result"
    }
   ],
   "source": [
    "# Predict, Problem predict 2 label in onr hot\n",
    "y_onehot_pred = activation(net_input(X, weight, bias))\n",
    "y_onehot_pred"
   ]
  },
  {
   "cell_type": "code",
   "execution_count": 350,
   "metadata": {},
   "outputs": [],
   "source": [
    "def softmax(z):\n",
    "    return np.exp(z) / np.sum(np.exp(z))\n",
    "\n",
    "\n",
    "def cross_entropy_loss(y_true, y_pred):\n",
    "    return -np.sum(y_true * np.log(y_pred))\n",
    "\n",
    "\n",
    "def update_weights_biases(X, y, weight, bias, learning_rate):\n",
    "    \n",
    "    m = X.shape[0]  # Number of samples\n",
    "\n",
    "    # Forward pass\n",
    "    z = net_input(X, weight, bias)\n",
    "    y_pred = softmax(z)\n",
    "    loss = cross_entropy_loss(y, y_pred)\n",
    "\n",
    "    # Backward pass\n",
    "    error = y - y_pred\n",
    "    dw = X.T.dot(error).T / m\n",
    "    db = np.sum(error, axis=0) / m\n",
    "\n",
    "    # Update weight and bias\n",
    "    weight -= learning_rate * dw\n",
    "    bias -= learning_rate * db\n",
    "\n",
    "    return weight, bias, loss"
   ]
  },
  {
   "cell_type": "code",
   "execution_count": 351,
   "metadata": {},
   "outputs": [],
   "source": [
    "y_onehot = get_onehot(y)\n",
    "weight = np.random.uniform(.01, .1, [n_classes, n_features])\n",
    "bias = np.random.uniform(.01, .1, [n_classes])"
   ]
  },
  {
   "cell_type": "code",
   "execution_count": 352,
   "metadata": {},
   "outputs": [
    {
     "name": "stdout",
     "output_type": "stream",
     "text": [
      "12536.281221527814\n",
      "12513.35199856618\n",
      "12496.628694467472\n",
      "12486.151673697113\n",
      "12481.946077868775\n",
      "12484.021357376701\n",
      "12492.370930271623\n",
      "12506.972005885975\n",
      "12527.785608887598\n",
      "12554.756833661144\n",
      "12587.815349563138\n",
      "12626.876165508575\n",
      "12671.840648703608\n",
      "12722.59777849851\n",
      "12779.025603645216\n",
      "12840.992860865565\n",
      "12908.360705406847\n",
      "12980.984500616001\n",
      "13058.715613524731\n",
      "13141.403166660555\n",
      "13228.895702164558\n",
      "13321.042722024677\n",
      "13417.696076995398\n",
      "13518.711185793221\n",
      "13623.948074775364\n",
      "13733.272236033528\n",
      "13846.555308343963\n",
      "13963.675590554309\n",
      "14084.518400737488\n",
      "14208.976296889525\n",
      "14336.949176247927\n",
      "14468.344270653906\n",
      "14603.076054981964\n",
      "14741.066084713573\n",
      "14882.242777417317\n",
      "15026.541151368434\n",
      "15173.902532919226\n",
      "15324.274242612024\n",
      "15477.60926847575\n",
      "15633.865933510027\n",
      "15793.007563063378\n",
      "15955.002156665427\n",
      "16119.822067877956\n",
      "16287.443694878566\n",
      "16457.8471837717\n",
      "16631.016146019378\n",
      "16806.93739088179\n",
      "16985.60067333911\n",
      "17166.998457614423\n",
      "17351.125696119092\n",
      "17537.979623382733\n",
      "17727.559564299554\n",
      "17919.86675581198\n",
      "18114.90418095456\n",
      "18312.676413991474\n",
      "18513.18947519747\n",
      "18716.450693654344\n",
      "18922.468576265343\n",
      "19131.252681032267\n",
      "19342.813492499958\n",
      "19557.16229715853\n",
      "19774.31105651324\n",
      "19994.272275495976\n",
      "20217.05886391056\n",
      "20442.683988687768\n",
      "20671.160914884018\n",
      "20902.502833599257\n",
      "21136.72267532079\n",
      "21373.83290762335\n",
      "21613.845316672174\n",
      "21856.770772579148\n",
      "22102.618979342293\n",
      "22351.398210840394\n",
      "22603.11503513487\n",
      "22857.774030124037\n",
      "23115.377494367516\n",
      "23375.925157616315\n",
      "23639.413896208283\n",
      "23905.83745898295\n",
      "24175.186209697837\n",
      "24447.446892061722\n",
      "24722.60242341506\n",
      "25000.63172277241\n",
      "25281.509578394915\n",
      "25565.206559293398\n",
      "25851.688974099856\n",
      "26140.918879621953\n",
      "26432.85414015796\n",
      "26727.44853735146\n",
      "27024.651929063246\n",
      "27324.41045448903\n",
      "27626.666781610387\n",
      "27931.360392078896\n",
      "28238.427897837522\n",
      "28547.80338320411\n",
      "28859.418765792703\n",
      "29173.204169529265\n",
      "29489.088303118686\n",
      "29806.998837617703\n",
      "30126.8627772353\n"
     ]
    }
   ],
   "source": [
    "iter = 100\n",
    "for _ in range(iter):\n",
    "    weight, bias, loss = update_weights_biases(X, y_onehot, weight, bias, 0.001)\n",
    "    print(loss)"
   ]
  },
  {
   "cell_type": "markdown",
   "metadata": {},
   "source": [
    "## Performance Evaluation\n",
    "\n",
    "### Confusion Matrix\n",
    "Precision = TP(TP / FP)\n",
    "\n",
    "Recall = TP(TP / FN)\n",
    "\n",
    "Accuracy = (TP + TN) / Total\n",
    "\n",
    "F1 Score = 2 * (Precision * Recall) / (Precision + Recall)"
   ]
  },
  {
   "cell_type": "code",
   "execution_count": null,
   "metadata": {},
   "outputs": [],
   "source": []
  }
 ],
 "metadata": {
  "kernelspec": {
   "display_name": "dataeng",
   "language": "python",
   "name": "python3"
  },
  "language_info": {
   "codemirror_mode": {
    "name": "ipython",
    "version": 3
   },
   "file_extension": ".py",
   "mimetype": "text/x-python",
   "name": "python",
   "nbconvert_exporter": "python",
   "pygments_lexer": "ipython3",
   "version": "3.9.16"
  }
 },
 "nbformat": 4,
 "nbformat_minor": 2
}
