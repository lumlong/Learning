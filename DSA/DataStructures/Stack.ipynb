{
 "cells": [
  {
   "cell_type": "code",
   "execution_count": 1,
   "metadata": {},
   "outputs": [],
   "source": [
    "# append list, but pop(last) (default python list)\n",
    "\n",
    "class Stack():\n",
    "    def __init__(self):\n",
    "        self.stack = []\n",
    "\n",
    "    # Creating an empty stack\n",
    "    def check_empty(stack):\n",
    "        return len(stack) == 0\n",
    "\n",
    "    # Adding items into the stack\n",
    "    def push(stack, item):\n",
    "        stack.append(item)\n",
    "        print(\"pushed item: \" + item)\n",
    "\n",
    "    # Removing an element from the stack\n",
    "    def pop(self, stack):\n",
    "        if (self.check_empty(stack)):\n",
    "            return \"stack is empty\"\n",
    "\n",
    "        return self.stack.pop()"
   ]
  },
  {
   "cell_type": "code",
   "execution_count": null,
   "metadata": {},
   "outputs": [],
   "source": [
    "stack = Stack()\n",
    "stack.push(stack, str(1))\n",
    "stack.push(stack, str(2))\n",
    "stack.push(stack, str(3))\n",
    "stack.push(stack, str(4))\n",
    "print(\"popped item: \" + stack.pop(stack))\n",
    "print(\"stack after popping an element: \" + str(stack))\n"
   ]
  }
 ],
 "metadata": {
  "kernelspec": {
   "display_name": "dataeng",
   "language": "python",
   "name": "python3"
  },
  "language_info": {
   "codemirror_mode": {
    "name": "ipython",
    "version": 3
   },
   "file_extension": ".py",
   "mimetype": "text/x-python",
   "name": "python",
   "nbconvert_exporter": "python",
   "pygments_lexer": "ipython3",
   "version": "3.9.16"
  }
 },
 "nbformat": 4,
 "nbformat_minor": 2
}
