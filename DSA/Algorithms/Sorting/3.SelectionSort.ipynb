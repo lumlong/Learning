{
 "cells": [
  {
   "cell_type": "code",
   "execution_count": 4,
   "metadata": {},
   "outputs": [],
   "source": [
    "def selectionSort(arr):\n",
    "    '''\n",
    "    For each i O(n)\n",
    "        Compare each arr[i] with the rest O(n-1/2)\n",
    "         Swap i with min O(1)\n",
    "    Total O(n^2)\n",
    "    '''\n",
    "    n = len(arr)\n",
    "    \n",
    "    for i in range(n):\n",
    "        min_i = i\n",
    "        for j in range(i+1, n):\n",
    "            if arr[j] < arr[min_i]:\n",
    "                min_i = j\n",
    "        \n",
    "        arr[i], arr[min_i] = arr[min_i], arr[i]"
   ]
  },
  {
   "cell_type": "code",
   "execution_count": 5,
   "metadata": {},
   "outputs": [
    {
     "data": {
      "text/plain": [
       "[2, 3, 4, 7, 8, 9]"
      ]
     },
     "execution_count": 5,
     "metadata": {},
     "output_type": "execute_result"
    }
   ],
   "source": [
    "arr = [7,4,2,8,3,9]\n",
    "\n",
    "selectionSort(arr)\n",
    "arr"
   ]
  },
  {
   "cell_type": "code",
   "execution_count": null,
   "metadata": {},
   "outputs": [],
   "source": []
  }
 ],
 "metadata": {
  "kernelspec": {
   "display_name": "dataeng",
   "language": "python",
   "name": "python3"
  },
  "language_info": {
   "codemirror_mode": {
    "name": "ipython",
    "version": 3
   },
   "file_extension": ".py",
   "mimetype": "text/x-python",
   "name": "python",
   "nbconvert_exporter": "python",
   "pygments_lexer": "ipython3",
   "version": "3.9.16"
  }
 },
 "nbformat": 4,
 "nbformat_minor": 2
}
