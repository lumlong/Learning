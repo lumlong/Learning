{
 "cells": [
  {
   "cell_type": "code",
   "execution_count": 23,
   "metadata": {},
   "outputs": [
    {
     "name": "stdout",
     "output_type": "stream",
     "text": [
      "Move disk 1 from rod A to rod C\n",
      "Move disk 2 from rod A to rod B\n",
      "Move disk 1 from rod C to rod B\n",
      "Move disk 3 from rod A to rod C\n",
      "Move disk 1 from rod B to rod A\n",
      "Move disk 2 from rod B to rod C\n",
      "Move disk 1 from rod A to rod C\n"
     ]
    }
   ],
   "source": [
    "a = [1,2,3]\n",
    "b = []\n",
    "c = []\n",
    "\n",
    "'''\n",
    "Thinking in Tree Structure, and solve with tree tranversal\n",
    "3 disks in A, B and C is empty, we want to move all disk to C\n",
    "The big problem, We want to move 2 disks to B, then disk 3 to C, then move 2 disks to C\n",
    "\n",
    "The sub problem is move 2 disks to middle by\n",
    "move disk 1 to C, move disk 2 to B, move disk 1 to B\n",
    "\n",
    "So\n",
    "\n",
    "2 A->B : From->Aux\n",
    "    1 A->C\n",
    "    2 A->B\n",
    "    1 C->B\n",
    "3 A->C : From->To\n",
    "2 B->C : Aux->To\n",
    "    1 B->A\n",
    "    2 B->C\n",
    "    1 A->C\n",
    "'''\n",
    "# Recursion will callback from basecase to top\n",
    "# So N=0, N=1 -> N=0, N=2 -> N=1 -> N=0, N=3 -> N=2, N=1\n",
    "\n",
    "def towerOfHanoi(n, from_rod, aux_rod, to_rod):\n",
    "                    #5. 0 meet base case, end\n",
    "                    #8. 0 meet base\n",
    "    if n == 0:\n",
    "        return\n",
    "    #1. call 3,A,C,B\n",
    "        #2. call 2,A,B,C\n",
    "            #3. call 1,A,C,B\n",
    "                # 4. 0 call here, A,C,B\n",
    "        #10. call 2,A,C,B\n",
    "        #12. call 0,C,B,A\n",
    "    towerOfHanoi(n-1, from_rod, to_rod, aux_rod)\n",
    "            #6. 1, A->C\n",
    "            #9. 2, A->B\n",
    "            #13. 1, C->B\n",
    "            #14. 3, A->C\n",
    "    print(\"Move disk\", n, \"from rod\", from_rod, \"to rod\", to_rod)\n",
    "                #7. call 0,B,A,C\n",
    "            #11. call 1,C,A,B\n",
    "    towerOfHanoi(n-1, aux_rod, from_rod, to_rod)\n",
    "\n",
    "N = 3\n",
    "\n",
    "# First call, A to C\n",
    "towerOfHanoi(N, 'A', 'B', 'C')"
   ]
  },
  {
   "cell_type": "code",
   "execution_count": null,
   "metadata": {},
   "outputs": [],
   "source": []
  },
  {
   "cell_type": "markdown",
   "metadata": {},
   "source": []
  }
 ],
 "metadata": {
  "kernelspec": {
   "display_name": "dataeng",
   "language": "python",
   "name": "python3"
  },
  "language_info": {
   "codemirror_mode": {
    "name": "ipython",
    "version": 3
   },
   "file_extension": ".py",
   "mimetype": "text/x-python",
   "name": "python",
   "nbconvert_exporter": "python",
   "pygments_lexer": "ipython3",
   "version": "3.9.16"
  }
 },
 "nbformat": 4,
 "nbformat_minor": 2
}
